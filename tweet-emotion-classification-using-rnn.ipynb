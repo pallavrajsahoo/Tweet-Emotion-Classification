{
 "cells": [
  {
   "cell_type": "markdown",
   "id": "85f201f9",
   "metadata": {
    "id": "sp7D0ktn5eiG",
    "papermill": {
     "duration": 0.057266,
     "end_time": "2022-03-28T09:27:59.453836",
     "exception": false,
     "start_time": "2022-03-28T09:27:59.396570",
     "status": "completed"
    },
    "tags": []
   },
   "source": [
    "# Tweet Emotion Recognition: Natural Language Processing with TensorFlow\n",
    "\n",
    "---\n",
    "\n",
    "Dataset: [Tweet Emotion Dataset](https://github.com/dair-ai/emotion_dataset)"
   ]
  },
  {
   "cell_type": "markdown",
   "id": "584d1966",
   "metadata": {
    "id": "cprXxkrMxIgT",
    "papermill": {
     "duration": 0.055773,
     "end_time": "2022-03-28T09:27:59.564367",
     "exception": false,
     "start_time": "2022-03-28T09:27:59.508594",
     "status": "completed"
    },
    "tags": []
   },
   "source": [
    "## Environment Setup\n",
    "\n",
    "1. Installing Hugging Face's nlp package\n",
    "2. Importing libraries"
   ]
  },
  {
   "cell_type": "code",
   "execution_count": 1,
   "id": "331d1b32",
   "metadata": {
    "execution": {
     "iopub.execute_input": "2022-03-28T09:27:59.679882Z",
     "iopub.status.busy": "2022-03-28T09:27:59.678730Z",
     "iopub.status.idle": "2022-03-28T09:28:14.375913Z",
     "shell.execute_reply": "2022-03-28T09:28:14.375018Z",
     "shell.execute_reply.started": "2022-03-28T08:19:36.977841Z"
    },
    "id": "5agZRy-45i0g",
    "outputId": "ab06dde3-76c8-4db2-8acb-2b8dabbb97b0",
    "papermill": {
     "duration": 14.756073,
     "end_time": "2022-03-28T09:28:14.376162",
     "exception": false,
     "start_time": "2022-03-28T09:27:59.620089",
     "status": "completed"
    },
    "tags": []
   },
   "outputs": [
    {
     "name": "stdout",
     "output_type": "stream",
     "text": [
      "Collecting nlp\r\n",
      "  Downloading nlp-0.4.0-py3-none-any.whl (1.7 MB)\r\n",
      "     |████████████████████████████████| 1.7 MB 242 kB/s            \r\n",
      "\u001b[?25hRequirement already satisfied: dill in /opt/conda/lib/python3.7/site-packages (from nlp) (0.3.4)\r\n",
      "Requirement already satisfied: xxhash in /opt/conda/lib/python3.7/site-packages (from nlp) (3.0.0)\r\n",
      "Requirement already satisfied: pandas in /opt/conda/lib/python3.7/site-packages (from nlp) (1.3.5)\r\n",
      "Requirement already satisfied: pyarrow>=0.16.0 in /opt/conda/lib/python3.7/site-packages (from nlp) (6.0.1)\r\n",
      "Requirement already satisfied: numpy in /opt/conda/lib/python3.7/site-packages (from nlp) (1.20.3)\r\n",
      "Requirement already satisfied: filelock in /opt/conda/lib/python3.7/site-packages (from nlp) (3.4.0)\r\n",
      "Requirement already satisfied: tqdm>=4.27 in /opt/conda/lib/python3.7/site-packages (from nlp) (4.62.3)\r\n",
      "Requirement already satisfied: requests>=2.19.0 in /opt/conda/lib/python3.7/site-packages (from nlp) (2.26.0)\r\n",
      "Requirement already satisfied: urllib3<1.27,>=1.21.1 in /opt/conda/lib/python3.7/site-packages (from requests>=2.19.0->nlp) (1.26.7)\r\n",
      "Requirement already satisfied: certifi>=2017.4.17 in /opt/conda/lib/python3.7/site-packages (from requests>=2.19.0->nlp) (2021.10.8)\r\n",
      "Requirement already satisfied: idna<4,>=2.5 in /opt/conda/lib/python3.7/site-packages (from requests>=2.19.0->nlp) (3.1)\r\n",
      "Requirement already satisfied: charset-normalizer~=2.0.0 in /opt/conda/lib/python3.7/site-packages (from requests>=2.19.0->nlp) (2.0.9)\r\n",
      "Requirement already satisfied: python-dateutil>=2.7.3 in /opt/conda/lib/python3.7/site-packages (from pandas->nlp) (2.8.2)\r\n",
      "Requirement already satisfied: pytz>=2017.3 in /opt/conda/lib/python3.7/site-packages (from pandas->nlp) (2021.3)\r\n",
      "Requirement already satisfied: six>=1.5 in /opt/conda/lib/python3.7/site-packages (from python-dateutil>=2.7.3->pandas->nlp) (1.16.0)\r\n",
      "Installing collected packages: nlp\r\n",
      "Successfully installed nlp-0.4.0\r\n",
      "\u001b[33mWARNING: Running pip as the 'root' user can result in broken permissions and conflicting behaviour with the system package manager. It is recommended to use a virtual environment instead: https://pip.pypa.io/warnings/venv\u001b[0m\r\n"
     ]
    }
   ],
   "source": [
    "!pip install nlp"
   ]
  },
  {
   "cell_type": "code",
   "execution_count": 2,
   "id": "764623d4",
   "metadata": {
    "execution": {
     "iopub.execute_input": "2022-03-28T09:28:14.520189Z",
     "iopub.status.busy": "2022-03-28T09:28:14.519415Z",
     "iopub.status.idle": "2022-03-28T09:28:23.193926Z",
     "shell.execute_reply": "2022-03-28T09:28:23.193219Z",
     "shell.execute_reply.started": "2022-03-28T08:23:06.123923Z"
    },
    "id": "yKFjWz6e5eiH",
    "papermill": {
     "duration": 8.753452,
     "end_time": "2022-03-28T09:28:23.194105",
     "exception": false,
     "start_time": "2022-03-28T09:28:14.440653",
     "status": "completed"
    },
    "tags": []
   },
   "outputs": [],
   "source": [
    "%matplotlib inline\n",
    "\n",
    "import re\n",
    "import tensorflow as tf\n",
    "import numpy as np\n",
    "import matplotlib.pyplot as plt\n",
    "import nlp\n",
    "import random\n",
    "import collections\n",
    "import nltk\n",
    "from nltk.corpus import stopwords\n",
    "from nltk.stem.wordnet import WordNetLemmatizer \n",
    "from nltk.corpus import wordnet\n",
    "nltk.download(\"stopwords\", quiet = True)\n",
    "nltk.download(\"wordnet\", quiet = True)\n",
    "nltk.download(\"punkt\", quiet = True)\n",
    "lemmatizer = WordNetLemmatizer()\n",
    "from nltk.tokenize import word_tokenize\n",
    "from tensorflow import keras\n",
    "from keras.preprocessing.text import Tokenizer\n",
    "from keras.preprocessing.sequence import pad_sequences\n",
    "from keras import Sequential\n",
    "from keras.layers import Embedding\n",
    "from keras.layers import Bidirectional\n",
    "from keras.layers import LSTM\n",
    "from keras.layers import Dense\n",
    "from keras.callbacks import Callback"
   ]
  },
  {
   "cell_type": "markdown",
   "id": "882c5369",
   "metadata": {
    "id": "7JsBpezExIga",
    "papermill": {
     "duration": 0.06235,
     "end_time": "2022-03-28T09:28:23.319461",
     "exception": false,
     "start_time": "2022-03-28T09:28:23.257111",
     "status": "completed"
    },
    "tags": []
   },
   "source": [
    "## Importing Data\n",
    "\n",
    "1. Importing the Tweet Emotion dataset\n",
    "2. Creating train, validation and test sets\n",
    "3. Extracting tweets and labels from the examples"
   ]
  },
  {
   "cell_type": "code",
   "execution_count": 3,
   "id": "cae7d778",
   "metadata": {
    "execution": {
     "iopub.execute_input": "2022-03-28T09:28:23.449185Z",
     "iopub.status.busy": "2022-03-28T09:28:23.448205Z",
     "iopub.status.idle": "2022-03-28T09:28:47.017326Z",
     "shell.execute_reply": "2022-03-28T09:28:47.016790Z",
     "shell.execute_reply.started": "2022-03-28T08:23:20.295286Z"
    },
    "id": "0YHOvjAu5eiL",
    "outputId": "06552d23-2a0c-45fd-fb99-1e5e21dcea5c",
    "papermill": {
     "duration": 23.635528,
     "end_time": "2022-03-28T09:28:47.017474",
     "exception": false,
     "start_time": "2022-03-28T09:28:23.381946",
     "status": "completed"
    },
    "tags": []
   },
   "outputs": [
    {
     "data": {
      "application/vnd.jupyter.widget-view+json": {
       "model_id": "fde7a8d0edec4d2ea6c62013dbe41b0d",
       "version_major": 2,
       "version_minor": 0
      },
      "text/plain": [
       "Downloading:   0%|          | 0.00/3.41k [00:00<?, ?B/s]"
      ]
     },
     "metadata": {},
     "output_type": "display_data"
    },
    {
     "data": {
      "application/vnd.jupyter.widget-view+json": {
       "model_id": "64b24f8dd2814775bd1f7711d34cc4fc",
       "version_major": 2,
       "version_minor": 0
      },
      "text/plain": [
       "Downloading:   0%|          | 0.00/6.01k [00:00<?, ?B/s]"
      ]
     },
     "metadata": {},
     "output_type": "display_data"
    },
    {
     "name": "stdout",
     "output_type": "stream",
     "text": [
      "Downloading and preparing dataset emotion/default (download: 1.97 MiB, generated: 2.09 MiB, post-processed: Unknown sizetotal: 4.06 MiB) to /root/.cache/huggingface/datasets/emotion/default/0.0.0/84e07cd366f4451464584cdbd4958f512bcaddb1e921341e07298ce8a9ce42f4...\n"
     ]
    },
    {
     "data": {
      "application/vnd.jupyter.widget-view+json": {
       "model_id": "cc0ed26a1ab04002a15d1e27259cb52a",
       "version_major": 2,
       "version_minor": 0
      },
      "text/plain": [
       "Downloading:   0%|          | 0.00/1.66M [00:00<?, ?B/s]"
      ]
     },
     "metadata": {},
     "output_type": "display_data"
    },
    {
     "data": {
      "application/vnd.jupyter.widget-view+json": {
       "model_id": "97a8b0d7cff64dcbaaad8de2d84eea8c",
       "version_major": 2,
       "version_minor": 0
      },
      "text/plain": [
       "Downloading:   0%|          | 0.00/204k [00:00<?, ?B/s]"
      ]
     },
     "metadata": {},
     "output_type": "display_data"
    },
    {
     "data": {
      "application/vnd.jupyter.widget-view+json": {
       "model_id": "95be131390144273af85d41ee7bbae8c",
       "version_major": 2,
       "version_minor": 0
      },
      "text/plain": [
       "Downloading:   0%|          | 0.00/207k [00:00<?, ?B/s]"
      ]
     },
     "metadata": {},
     "output_type": "display_data"
    },
    {
     "data": {
      "application/vnd.jupyter.widget-view+json": {
       "model_id": "b35f9ff08982416e9266b2045fc79ab8",
       "version_major": 2,
       "version_minor": 0
      },
      "text/plain": [
       "0 examples [00:00, ? examples/s]"
      ]
     },
     "metadata": {},
     "output_type": "display_data"
    },
    {
     "data": {
      "application/vnd.jupyter.widget-view+json": {
       "model_id": "8b6aa4a590f8440a9d316473530a736f",
       "version_major": 2,
       "version_minor": 0
      },
      "text/plain": [
       "0 examples [00:00, ? examples/s]"
      ]
     },
     "metadata": {},
     "output_type": "display_data"
    },
    {
     "data": {
      "application/vnd.jupyter.widget-view+json": {
       "model_id": "4a10db6797f94638bba8897d99d2a40d",
       "version_major": 2,
       "version_minor": 0
      },
      "text/plain": [
       "0 examples [00:00, ? examples/s]"
      ]
     },
     "metadata": {},
     "output_type": "display_data"
    },
    {
     "name": "stdout",
     "output_type": "stream",
     "text": [
      "Dataset emotion downloaded and prepared to /root/.cache/huggingface/datasets/emotion/default/0.0.0/84e07cd366f4451464584cdbd4958f512bcaddb1e921341e07298ce8a9ce42f4. Subsequent calls will reuse this data.\n"
     ]
    }
   ],
   "source": [
    "data = nlp.load_dataset('emotion')"
   ]
  },
  {
   "cell_type": "code",
   "execution_count": 4,
   "id": "2321dc70",
   "metadata": {
    "execution": {
     "iopub.execute_input": "2022-03-28T09:28:47.165308Z",
     "iopub.status.busy": "2022-03-28T09:28:47.164445Z",
     "iopub.status.idle": "2022-03-28T09:28:47.168171Z",
     "shell.execute_reply": "2022-03-28T09:28:47.167687Z",
     "shell.execute_reply.started": "2022-03-28T08:23:31.922837Z"
    },
    "id": "2s0h541FxIgc",
    "outputId": "abc2f986-6a29-4f42-f8f3-bccf8fc09ab1",
    "papermill": {
     "duration": 0.081446,
     "end_time": "2022-03-28T09:28:47.168311",
     "exception": false,
     "start_time": "2022-03-28T09:28:47.086865",
     "status": "completed"
    },
    "tags": []
   },
   "outputs": [
    {
     "data": {
      "text/plain": [
       "{'train': Dataset(features: {'text': Value(dtype='string', id=None), 'label': Value(dtype='string', id=None)}, num_rows: 16000),\n",
       " 'validation': Dataset(features: {'text': Value(dtype='string', id=None), 'label': Value(dtype='string', id=None)}, num_rows: 2000),\n",
       " 'test': Dataset(features: {'text': Value(dtype='string', id=None), 'label': Value(dtype='string', id=None)}, num_rows: 2000)}"
      ]
     },
     "execution_count": 4,
     "metadata": {},
     "output_type": "execute_result"
    }
   ],
   "source": [
    "data"
   ]
  },
  {
   "cell_type": "code",
   "execution_count": 5,
   "id": "4ebb34b2",
   "metadata": {
    "execution": {
     "iopub.execute_input": "2022-03-28T09:28:47.311358Z",
     "iopub.status.busy": "2022-03-28T09:28:47.310649Z",
     "iopub.status.idle": "2022-03-28T09:28:47.313394Z",
     "shell.execute_reply": "2022-03-28T09:28:47.312829Z",
     "shell.execute_reply.started": "2022-03-28T08:23:31.932518Z"
    },
    "id": "z7eCnxU25eiN",
    "papermill": {
     "duration": 0.076102,
     "end_time": "2022-03-28T09:28:47.313553",
     "exception": false,
     "start_time": "2022-03-28T09:28:47.237451",
     "status": "completed"
    },
    "tags": []
   },
   "outputs": [],
   "source": [
    "train = data['train']\n",
    "val = data['validation']\n",
    "test = data['test']"
   ]
  },
  {
   "cell_type": "code",
   "execution_count": 6,
   "id": "b3ed1be1",
   "metadata": {
    "execution": {
     "iopub.execute_input": "2022-03-28T09:28:47.481220Z",
     "iopub.status.busy": "2022-03-28T09:28:47.480497Z",
     "iopub.status.idle": "2022-03-28T09:28:47.521211Z",
     "shell.execute_reply": "2022-03-28T09:28:47.520619Z",
     "shell.execute_reply.started": "2022-03-28T08:26:30.236511Z"
    },
    "id": "oDYXMfZy5eiP",
    "papermill": {
     "duration": 0.138802,
     "end_time": "2022-03-28T09:28:47.521354",
     "exception": false,
     "start_time": "2022-03-28T09:28:47.382552",
     "status": "completed"
    },
    "tags": []
   },
   "outputs": [],
   "source": [
    "train_tweet, train_label = train['text'], train['label']\n",
    "val_tweet, val_label = val['text'], val['label']\n",
    "test_tweet, test_label = test['text'], test['label']"
   ]
  },
  {
   "cell_type": "code",
   "execution_count": 7,
   "id": "ecc2bbea",
   "metadata": {
    "execution": {
     "iopub.execute_input": "2022-03-28T09:28:47.665830Z",
     "iopub.status.busy": "2022-03-28T09:28:47.665144Z",
     "iopub.status.idle": "2022-03-28T09:28:47.667905Z",
     "shell.execute_reply": "2022-03-28T09:28:47.668383Z",
     "shell.execute_reply.started": "2022-03-28T08:26:30.987545Z"
    },
    "id": "bHD3Tk0J5eiU",
    "outputId": "01fdf315-05de-46b0-94db-1ace148aa2a5",
    "papermill": {
     "duration": 0.078738,
     "end_time": "2022-03-28T09:28:47.668567",
     "exception": false,
     "start_time": "2022-03-28T09:28:47.589829",
     "status": "completed"
    },
    "tags": []
   },
   "outputs": [
    {
     "data": {
      "text/plain": [
       "('i didnt feel humiliated', 'sadness')"
      ]
     },
     "execution_count": 7,
     "metadata": {},
     "output_type": "execute_result"
    }
   ],
   "source": [
    "train_tweet[0], train_label[0]"
   ]
  },
  {
   "cell_type": "markdown",
   "id": "cec770ed",
   "metadata": {
    "id": "HRshdYR2zl4J",
    "papermill": {
     "duration": 0.070775,
     "end_time": "2022-03-28T09:28:47.809133",
     "exception": false,
     "start_time": "2022-03-28T09:28:47.738358",
     "status": "completed"
    },
    "tags": []
   },
   "source": [
    "## Exploratory Data Analysis\n",
    "\n",
    "\n",
    "1.   Initializing Hyperparameters\n",
    "2.   Simple Data Visualization\n",
    "\n"
   ]
  },
  {
   "cell_type": "code",
   "execution_count": 8,
   "id": "693dec71",
   "metadata": {
    "execution": {
     "iopub.execute_input": "2022-03-28T09:28:47.956212Z",
     "iopub.status.busy": "2022-03-28T09:28:47.955523Z",
     "iopub.status.idle": "2022-03-28T09:28:47.959046Z",
     "shell.execute_reply": "2022-03-28T09:28:47.959569Z",
     "shell.execute_reply.started": "2022-03-28T08:26:33.282509Z"
    },
    "id": "gry5WjPl-xIZ",
    "papermill": {
     "duration": 0.079827,
     "end_time": "2022-03-28T09:28:47.959774",
     "exception": false,
     "start_time": "2022-03-28T09:28:47.879947",
     "status": "completed"
    },
    "tags": []
   },
   "outputs": [],
   "source": [
    "# Initialising Hyperparameters\n",
    "\n",
    "NUM_WORDS = 10000\n",
    "OOV_TOKEN = '<OOV>'\n",
    "MAX_LEN = 50\n",
    "TRUNCATING = 'post'\n",
    "PADDING = 'post'"
   ]
  },
  {
   "cell_type": "code",
   "execution_count": 9,
   "id": "db9494e3",
   "metadata": {
    "execution": {
     "iopub.execute_input": "2022-03-28T09:28:48.105021Z",
     "iopub.status.busy": "2022-03-28T09:28:48.104351Z",
     "iopub.status.idle": "2022-03-28T09:28:48.126799Z",
     "shell.execute_reply": "2022-03-28T09:28:48.127377Z",
     "shell.execute_reply.started": "2022-03-28T08:26:33.688469Z"
    },
    "id": "EUP84obLCCZW",
    "papermill": {
     "duration": 0.096496,
     "end_time": "2022-03-28T09:28:48.127567",
     "exception": false,
     "start_time": "2022-03-28T09:28:48.031071",
     "status": "completed"
    },
    "tags": []
   },
   "outputs": [],
   "source": [
    "length_of_words = [len(tweet.split(' ')) for tweet in train_tweet]"
   ]
  },
  {
   "cell_type": "code",
   "execution_count": 10,
   "id": "33b8ec00",
   "metadata": {
    "execution": {
     "iopub.execute_input": "2022-03-28T09:28:48.270630Z",
     "iopub.status.busy": "2022-03-28T09:28:48.269949Z",
     "iopub.status.idle": "2022-03-28T09:28:48.899054Z",
     "shell.execute_reply": "2022-03-28T09:28:48.898456Z",
     "shell.execute_reply.started": "2022-03-28T08:26:35.196042Z"
    },
    "id": "S-TWzUlEChw-",
    "outputId": "a1a40219-77f5-46c9-afa1-032a5f863b20",
    "papermill": {
     "duration": 0.701195,
     "end_time": "2022-03-28T09:28:48.899210",
     "exception": false,
     "start_time": "2022-03-28T09:28:48.198015",
     "status": "completed"
    },
    "tags": []
   },
   "outputs": [
    {
     "data": {
      "image/png": "[encoded data removed]",
      "text/plain": [
       "<Figure size 432x288 with 1 Axes>"
      ]
     },
     "metadata": {
      "needs_background": "light"
     },
     "output_type": "display_data"
    }
   ],
   "source": [
    "plt.hist(length_of_words, bins=len(set(length_of_words)))\n",
    "plt.xlabel('Lengths of Tweets')\n",
    "plt.ylabel('No. of Tweets')\n",
    "plt.show()"
   ]
  },
  {
   "cell_type": "code",
   "execution_count": 11,
   "id": "f184aab7",
   "metadata": {
    "execution": {
     "iopub.execute_input": "2022-03-28T09:28:49.045644Z",
     "iopub.status.busy": "2022-03-28T09:28:49.044963Z",
     "iopub.status.idle": "2022-03-28T09:28:49.047134Z",
     "shell.execute_reply": "2022-03-28T09:28:49.047636Z",
     "shell.execute_reply.started": "2022-03-28T08:26:37.927945Z"
    },
    "id": "vMTJPR0BwCCG",
    "papermill": {
     "duration": 0.078114,
     "end_time": "2022-03-28T09:28:49.047821",
     "exception": false,
     "start_time": "2022-03-28T09:28:48.969707",
     "status": "completed"
    },
    "tags": []
   },
   "outputs": [],
   "source": [
    "all_labels = train_label + test_label + val_label"
   ]
  },
  {
   "cell_type": "code",
   "execution_count": 12,
   "id": "158944a0",
   "metadata": {
    "execution": {
     "iopub.execute_input": "2022-03-28T09:28:49.193852Z",
     "iopub.status.busy": "2022-03-28T09:28:49.193077Z",
     "iopub.status.idle": "2022-03-28T09:28:49.196222Z",
     "shell.execute_reply": "2022-03-28T09:28:49.196845Z",
     "shell.execute_reply.started": "2022-03-28T08:26:38.276755Z"
    },
    "id": "vcY4vAxZwZoz",
    "outputId": "8c2293a6-9119-40ad-bf8c-a2dff51b5c32",
    "papermill": {
     "duration": 0.078935,
     "end_time": "2022-03-28T09:28:49.197018",
     "exception": false,
     "start_time": "2022-03-28T09:28:49.118083",
     "status": "completed"
    },
    "tags": []
   },
   "outputs": [
    {
     "data": {
      "text/plain": [
       "20000"
      ]
     },
     "execution_count": 12,
     "metadata": {},
     "output_type": "execute_result"
    }
   ],
   "source": [
    "len(all_labels)"
   ]
  },
  {
   "cell_type": "code",
   "execution_count": 13,
   "id": "db3f9e06",
   "metadata": {
    "execution": {
     "iopub.execute_input": "2022-03-28T09:28:49.343730Z",
     "iopub.status.busy": "2022-03-28T09:28:49.343023Z",
     "iopub.status.idle": "2022-03-28T09:28:49.346806Z",
     "shell.execute_reply": "2022-03-28T09:28:49.346279Z",
     "shell.execute_reply.started": "2022-03-28T08:26:38.548192Z"
    },
    "id": "p1BAKuxiEfaT",
    "outputId": "cbc291e9-7bbf-430c-ac45-85c8a4b0e9fe",
    "papermill": {
     "duration": 0.079805,
     "end_time": "2022-03-28T09:28:49.346953",
     "exception": false,
     "start_time": "2022-03-28T09:28:49.267148",
     "status": "completed"
    },
    "tags": []
   },
   "outputs": [
    {
     "data": {
      "text/plain": [
       "{'anger', 'fear', 'joy', 'love', 'sadness', 'surprise'}"
      ]
     },
     "execution_count": 13,
     "metadata": {},
     "output_type": "execute_result"
    }
   ],
   "source": [
    "classes = set(train_label)\n",
    "classes"
   ]
  },
  {
   "cell_type": "code",
   "execution_count": 14,
   "id": "449fa23b",
   "metadata": {
    "execution": {
     "iopub.execute_input": "2022-03-28T09:28:49.496230Z",
     "iopub.status.busy": "2022-03-28T09:28:49.495543Z",
     "iopub.status.idle": "2022-03-28T09:28:49.499204Z",
     "shell.execute_reply": "2022-03-28T09:28:49.498564Z",
     "shell.execute_reply.started": "2022-03-28T08:26:40.208244Z"
    },
    "id": "GpNlnXejFJfk",
    "outputId": "93497688-23d3-440b-c1d1-813676ac3a4c",
    "papermill": {
     "duration": 0.081343,
     "end_time": "2022-03-28T09:28:49.499353",
     "exception": false,
     "start_time": "2022-03-28T09:28:49.418010",
     "status": "completed"
    },
    "tags": []
   },
   "outputs": [
    {
     "data": {
      "text/plain": [
       "{'sadness': 4666,\n",
       " 'anger': 2159,\n",
       " 'love': 1304,\n",
       " 'surprise': 572,\n",
       " 'fear': 1937,\n",
       " 'joy': 5362}"
      ]
     },
     "execution_count": 14,
     "metadata": {},
     "output_type": "execute_result"
    }
   ],
   "source": [
    "length_labels = dict(collections.Counter(train_label))\n",
    "length_labels"
   ]
  },
  {
   "cell_type": "code",
   "execution_count": 15,
   "id": "0b602151",
   "metadata": {
    "execution": {
     "iopub.execute_input": "2022-03-28T09:28:49.646311Z",
     "iopub.status.busy": "2022-03-28T09:28:49.645548Z",
     "iopub.status.idle": "2022-03-28T09:28:49.892160Z",
     "shell.execute_reply": "2022-03-28T09:28:49.892683Z",
     "shell.execute_reply.started": "2022-03-28T08:26:40.488143Z"
    },
    "id": "GQzU3CEZGhHj",
    "outputId": "44e9b9f9-d056-4b8e-a108-f59f733e3d60",
    "papermill": {
     "duration": 0.322207,
     "end_time": "2022-03-28T09:28:49.892875",
     "exception": false,
     "start_time": "2022-03-28T09:28:49.570668",
     "status": "completed"
    },
    "tags": []
   },
   "outputs": [
    {
     "data": {
      "image/png": "[encoded data removed]",
      "text/plain": [
       "<Figure size 432x288 with 1 Axes>"
      ]
     },
     "metadata": {
      "needs_background": "light"
     },
     "output_type": "display_data"
    }
   ],
   "source": [
    "plt.hist(train_label, bins = 11)\n",
    "plt.show()"
   ]
  },
  {
   "cell_type": "markdown",
   "id": "2ba3ea2a",
   "metadata": {
    "id": "EnK5e9q6z_FO",
    "papermill": {
     "duration": 0.071169,
     "end_time": "2022-03-28T09:28:50.036912",
     "exception": false,
     "start_time": "2022-03-28T09:28:49.965743",
     "status": "completed"
    },
    "tags": []
   },
   "source": [
    "## Data Preprocessing\n",
    "\n",
    "\n",
    "1.   Removing url links and punctuations from the tweets\n",
    "2.   Removing stopwords\n",
    "3.   Tokenizing and Lematizing the tokens\n",
    "4.   Creating padded sequences\n",
    "5.   Creating classes to index and index to classes dictionaries\n",
    "6.   Vectorizing text labels\n",
    "\n",
    "\n"
   ]
  },
  {
   "cell_type": "code",
   "execution_count": 16,
   "id": "29791242",
   "metadata": {
    "execution": {
     "iopub.execute_input": "2022-03-28T09:28:50.186559Z",
     "iopub.status.busy": "2022-03-28T09:28:50.185909Z",
     "iopub.status.idle": "2022-03-28T09:28:50.192099Z",
     "shell.execute_reply": "2022-03-28T09:28:50.192601Z",
     "shell.execute_reply.started": "2022-03-28T08:26:43.010235Z"
    },
    "id": "AEoA9TXsBo3-",
    "papermill": {
     "duration": 0.082318,
     "end_time": "2022-03-28T09:28:50.192812",
     "exception": false,
     "start_time": "2022-03-28T09:28:50.110494",
     "status": "completed"
    },
    "tags": []
   },
   "outputs": [],
   "source": [
    "# Removing stopwords, links and punctuations\n",
    "# later lematizing the tokens\n",
    "\n",
    "def preprocess(tweet):\n",
    "  tweet = re.sub(r'[^\\w\\s]', '', tweet.lower())\n",
    "  tweet = re.sub(r\"\\S*https?:\\S*\", \"\", tweet)\n",
    "  tweet_tokens = word_tokenize(tweet)\n",
    "  result=''\n",
    "  for t in tweet_tokens:\n",
    "        lemma = lemmatizer.lemmatize(t)\n",
    "        if lemma not in set(stopwords.words('english')):\n",
    "            result += lemma + ' '\n",
    "  return result"
   ]
  },
  {
   "cell_type": "code",
   "execution_count": 17,
   "id": "5cff867c",
   "metadata": {
    "execution": {
     "iopub.execute_input": "2022-03-28T09:28:50.340992Z",
     "iopub.status.busy": "2022-03-28T09:28:50.340257Z",
     "iopub.status.idle": "2022-03-28T09:29:50.966698Z",
     "shell.execute_reply": "2022-03-28T09:29:50.966079Z",
     "shell.execute_reply.started": "2022-03-28T08:26:43.667638Z"
    },
    "id": "NuCf0ImdDOxF",
    "papermill": {
     "duration": 60.701371,
     "end_time": "2022-03-28T09:29:50.966881",
     "exception": false,
     "start_time": "2022-03-28T09:28:50.265510",
     "status": "completed"
    },
    "tags": []
   },
   "outputs": [],
   "source": [
    "new_train_tweets = [preprocess(tweet) for tweet in train_tweet]\n",
    "new_val_tweets = [preprocess(tweet) for tweet in val_tweet]"
   ]
  },
  {
   "cell_type": "code",
   "execution_count": 18,
   "id": "a3a18563",
   "metadata": {
    "execution": {
     "iopub.execute_input": "2022-03-28T09:29:51.118818Z",
     "iopub.status.busy": "2022-03-28T09:29:51.118125Z",
     "iopub.status.idle": "2022-03-28T09:29:51.122140Z",
     "shell.execute_reply": "2022-03-28T09:29:51.122596Z",
     "shell.execute_reply.started": "2022-03-28T08:29:32.791371Z"
    },
    "id": "6FVVk_MGI49a",
    "outputId": "820b5a44-820f-4c85-a48f-59421a855e91",
    "papermill": {
     "duration": 0.080289,
     "end_time": "2022-03-28T09:29:51.122802",
     "exception": false,
     "start_time": "2022-03-28T09:29:51.042513",
     "status": "completed"
    },
    "tags": []
   },
   "outputs": [
    {
     "data": {
      "text/plain": [
       "['didnt feel humiliated ',\n",
       " 'go feeling hopeless damned hopeful around someone care awake ']"
      ]
     },
     "execution_count": 18,
     "metadata": {},
     "output_type": "execute_result"
    }
   ],
   "source": [
    "new_train_tweets[:2]"
   ]
  },
  {
   "cell_type": "code",
   "execution_count": 19,
   "id": "cc91b29b",
   "metadata": {
    "execution": {
     "iopub.execute_input": "2022-03-28T09:29:51.272017Z",
     "iopub.status.busy": "2022-03-28T09:29:51.271332Z",
     "iopub.status.idle": "2022-03-28T09:29:51.276021Z",
     "shell.execute_reply": "2022-03-28T09:29:51.276479Z",
     "shell.execute_reply.started": "2022-03-28T08:29:33.289779Z"
    },
    "id": "I9RyEur-JJIM",
    "outputId": "85e12216-06bf-40bc-fb4d-e7e9a2f5c830",
    "papermill": {
     "duration": 0.080393,
     "end_time": "2022-03-28T09:29:51.276680",
     "exception": false,
     "start_time": "2022-03-28T09:29:51.196287",
     "status": "completed"
    },
    "tags": []
   },
   "outputs": [
    {
     "data": {
      "text/plain": [
       "['i didnt feel humiliated',\n",
       " 'i can go from feeling so hopeless to so damned hopeful just from being around someone who cares and is awake']"
      ]
     },
     "execution_count": 19,
     "metadata": {},
     "output_type": "execute_result"
    }
   ],
   "source": [
    "train_tweet[:2]"
   ]
  },
  {
   "cell_type": "code",
   "execution_count": 20,
   "id": "250a578f",
   "metadata": {
    "execution": {
     "iopub.execute_input": "2022-03-28T09:29:51.426734Z",
     "iopub.status.busy": "2022-03-28T09:29:51.426041Z",
     "iopub.status.idle": "2022-03-28T09:29:51.429502Z",
     "shell.execute_reply": "2022-03-28T09:29:51.430050Z",
     "shell.execute_reply.started": "2022-03-28T08:29:35.408330Z"
    },
    "id": "qfX5-ResxIgq",
    "papermill": {
     "duration": 0.080811,
     "end_time": "2022-03-28T09:29:51.430224",
     "exception": false,
     "start_time": "2022-03-28T09:29:51.349413",
     "status": "completed"
    },
    "tags": []
   },
   "outputs": [],
   "source": [
    "# Tokenize the tweets\n",
    "def tokenize(num_words, oov_token):\n",
    "  tokenizer = Tokenizer(num_words = num_words, oov_token = oov_token)\n",
    "  tokenizer.fit_on_texts(new_train_tweets)\n",
    "  return tokenizer"
   ]
  },
  {
   "cell_type": "code",
   "execution_count": 21,
   "id": "e64e73c9",
   "metadata": {
    "execution": {
     "iopub.execute_input": "2022-03-28T09:29:51.579986Z",
     "iopub.status.busy": "2022-03-28T09:29:51.579182Z",
     "iopub.status.idle": "2022-03-28T09:29:51.867875Z",
     "shell.execute_reply": "2022-03-28T09:29:51.867285Z",
     "shell.execute_reply.started": "2022-03-28T08:29:36.968876Z"
    },
    "id": "Y8D5u_kC_NN4",
    "papermill": {
     "duration": 0.364504,
     "end_time": "2022-03-28T09:29:51.868037",
     "exception": false,
     "start_time": "2022-03-28T09:29:51.503533",
     "status": "completed"
    },
    "tags": []
   },
   "outputs": [],
   "source": [
    "tokenizer = tokenize(NUM_WORDS, OOV_TOKEN)"
   ]
  },
  {
   "cell_type": "code",
   "execution_count": 22,
   "id": "ecfdadb9",
   "metadata": {
    "execution": {
     "iopub.execute_input": "2022-03-28T09:29:52.016019Z",
     "iopub.status.busy": "2022-03-28T09:29:52.015260Z",
     "iopub.status.idle": "2022-03-28T09:29:52.019364Z",
     "shell.execute_reply": "2022-03-28T09:29:52.019897Z",
     "shell.execute_reply.started": "2022-03-28T08:29:37.314070Z"
    },
    "id": "mLvf_WFZxIgu",
    "papermill": {
     "duration": 0.080054,
     "end_time": "2022-03-28T09:29:52.020085",
     "exception": false,
     "start_time": "2022-03-28T09:29:51.940031",
     "status": "completed"
    },
    "tags": []
   },
   "outputs": [],
   "source": [
    "# Creating sequences of the tokens and padding them\n",
    "\n",
    "def padded_sequences(tokenizer, tweet, maxlen, truncating, padding):\n",
    "  sequences = tokenizer.texts_to_sequences(tweet)\n",
    "  padded = pad_sequences(sequences, maxlen=maxlen, padding=padding, truncating=truncating)\n",
    "  return padded"
   ]
  },
  {
   "cell_type": "code",
   "execution_count": 23,
   "id": "0e12ec26",
   "metadata": {
    "execution": {
     "iopub.execute_input": "2022-03-28T09:29:52.168374Z",
     "iopub.status.busy": "2022-03-28T09:29:52.167700Z",
     "iopub.status.idle": "2022-03-28T09:29:52.488163Z",
     "shell.execute_reply": "2022-03-28T09:29:52.488767Z",
     "shell.execute_reply.started": "2022-03-28T08:29:38.608242Z"
    },
    "id": "EOi5lIE3xIgx",
    "papermill": {
     "duration": 0.396181,
     "end_time": "2022-03-28T09:29:52.488975",
     "exception": false,
     "start_time": "2022-03-28T09:29:52.092794",
     "status": "completed"
    },
    "tags": []
   },
   "outputs": [],
   "source": [
    "train_padded_sequences = padded_sequences(tokenizer, new_train_tweets, MAX_LEN, TRUNCATING, PADDING)"
   ]
  },
  {
   "cell_type": "code",
   "execution_count": 24,
   "id": "251ced50",
   "metadata": {
    "execution": {
     "iopub.execute_input": "2022-03-28T09:29:52.638874Z",
     "iopub.status.busy": "2022-03-28T09:29:52.637995Z",
     "iopub.status.idle": "2022-03-28T09:29:52.645760Z",
     "shell.execute_reply": "2022-03-28T09:29:52.645212Z",
     "shell.execute_reply.started": "2022-03-28T08:29:38.969456Z"
    },
    "id": "Q9J_Iemf5eiq",
    "outputId": "95908780-f2da-441f-ca36-44359b14b9a3",
    "papermill": {
     "duration": 0.084497,
     "end_time": "2022-03-28T09:29:52.645901",
     "exception": false,
     "start_time": "2022-03-28T09:29:52.561404",
     "status": "completed"
    },
    "tags": []
   },
   "outputs": [
    {
     "data": {
      "text/plain": [
       "('didnt feel humiliated ',\n",
       " array([ 54,   2, 567,   0,   0,   0,   0,   0,   0,   0,   0,   0,   0,\n",
       "          0,   0,   0,   0,   0,   0,   0,   0,   0,   0,   0,   0,   0,\n",
       "          0,   0,   0,   0,   0,   0,   0,   0,   0,   0,   0,   0,   0,\n",
       "          0,   0,   0,   0,   0,   0,   0,   0,   0,   0,   0], dtype=int32))"
      ]
     },
     "execution_count": 24,
     "metadata": {},
     "output_type": "execute_result"
    }
   ],
   "source": [
    "new_train_tweets[0], train_padded_sequences[0]"
   ]
  },
  {
   "cell_type": "code",
   "execution_count": 25,
   "id": "3ac4beaa",
   "metadata": {
    "execution": {
     "iopub.execute_input": "2022-03-28T09:29:52.793870Z",
     "iopub.status.busy": "2022-03-28T09:29:52.793240Z",
     "iopub.status.idle": "2022-03-28T09:29:52.797262Z",
     "shell.execute_reply": "2022-03-28T09:29:52.797909Z",
     "shell.execute_reply.started": "2022-03-28T08:29:47.849920Z"
    },
    "id": "SufT2bpD5ejE",
    "papermill": {
     "duration": 0.079663,
     "end_time": "2022-03-28T09:29:52.798089",
     "exception": false,
     "start_time": "2022-03-28T09:29:52.718426",
     "status": "completed"
    },
    "tags": []
   },
   "outputs": [],
   "source": [
    "# Creating classes to index and index to classes dictionaries\n",
    "class2idx = dict((c, idx) for idx, c in enumerate(classes))\n",
    "idx2class = dict((idx, c) for idx, c in enumerate(classes))"
   ]
  },
  {
   "cell_type": "code",
   "execution_count": 26,
   "id": "ff771d6a",
   "metadata": {
    "execution": {
     "iopub.execute_input": "2022-03-28T09:29:52.950518Z",
     "iopub.status.busy": "2022-03-28T09:29:52.949836Z",
     "iopub.status.idle": "2022-03-28T09:29:52.953517Z",
     "shell.execute_reply": "2022-03-28T09:29:52.953025Z",
     "shell.execute_reply.started": "2022-03-28T08:29:48.274940Z"
    },
    "id": "rpwzL88I7YSm",
    "outputId": "fb3994aa-ee44-4217-a64a-d1a95a7eb56e",
    "papermill": {
     "duration": 0.083284,
     "end_time": "2022-03-28T09:29:52.953700",
     "exception": false,
     "start_time": "2022-03-28T09:29:52.870416",
     "status": "completed"
    },
    "tags": []
   },
   "outputs": [
    {
     "data": {
      "text/plain": [
       "({'surprise': 0, 'anger': 1, 'love': 2, 'sadness': 3, 'joy': 4, 'fear': 5},\n",
       " {0: 'surprise', 1: 'anger', 2: 'love', 3: 'sadness', 4: 'joy', 5: 'fear'})"
      ]
     },
     "execution_count": 26,
     "metadata": {},
     "output_type": "execute_result"
    }
   ],
   "source": [
    "class2idx, idx2class"
   ]
  },
  {
   "cell_type": "code",
   "execution_count": 27,
   "id": "8e25e68e",
   "metadata": {
    "execution": {
     "iopub.execute_input": "2022-03-28T09:29:53.106410Z",
     "iopub.status.busy": "2022-03-28T09:29:53.105776Z",
     "iopub.status.idle": "2022-03-28T09:29:53.108065Z",
     "shell.execute_reply": "2022-03-28T09:29:53.108676Z",
     "shell.execute_reply.started": "2022-03-28T08:29:48.647829Z"
    },
    "id": "dNLF6rXL5ejN",
    "papermill": {
     "duration": 0.081268,
     "end_time": "2022-03-28T09:29:53.108850",
     "exception": false,
     "start_time": "2022-03-28T09:29:53.027582",
     "status": "completed"
    },
    "tags": []
   },
   "outputs": [],
   "source": [
    "# vectorizing text labels by converting it to numeric labels\n",
    "names2ids = lambda labels: np.array([class2idx.get(x) for x in labels])"
   ]
  },
  {
   "cell_type": "code",
   "execution_count": 28,
   "id": "013d05b3",
   "metadata": {
    "execution": {
     "iopub.execute_input": "2022-03-28T09:29:53.259121Z",
     "iopub.status.busy": "2022-03-28T09:29:53.258485Z",
     "iopub.status.idle": "2022-03-28T09:29:53.266332Z",
     "shell.execute_reply": "2022-03-28T09:29:53.266978Z",
     "shell.execute_reply.started": "2022-03-28T08:29:50.109325Z"
    },
    "id": "_08InVyM5ejc",
    "papermill": {
     "duration": 0.084724,
     "end_time": "2022-03-28T09:29:53.267160",
     "exception": false,
     "start_time": "2022-03-28T09:29:53.182436",
     "status": "completed"
    },
    "tags": []
   },
   "outputs": [],
   "source": [
    "train_vectorized_labels = names2ids(train_label)"
   ]
  },
  {
   "cell_type": "code",
   "execution_count": 29,
   "id": "2fceed90",
   "metadata": {
    "execution": {
     "iopub.execute_input": "2022-03-28T09:29:53.421376Z",
     "iopub.status.busy": "2022-03-28T09:29:53.420306Z",
     "iopub.status.idle": "2022-03-28T09:29:53.423922Z",
     "shell.execute_reply": "2022-03-28T09:29:53.424550Z",
     "shell.execute_reply.started": "2022-03-28T08:29:50.432541Z"
    },
    "id": "gpeDoA6gxIhE",
    "outputId": "3be5c72e-f4b2-43e0-91eb-1140d80555c6",
    "papermill": {
     "duration": 0.084466,
     "end_time": "2022-03-28T09:29:53.424739",
     "exception": false,
     "start_time": "2022-03-28T09:29:53.340273",
     "status": "completed"
    },
    "tags": []
   },
   "outputs": [
    {
     "data": {
      "text/plain": [
       "(array([3, 3, 1, ..., 4, 1, 3]), 16000)"
      ]
     },
     "execution_count": 29,
     "metadata": {},
     "output_type": "execute_result"
    }
   ],
   "source": [
    "train_vectorized_labels, len(train_vectorized_labels)"
   ]
  },
  {
   "cell_type": "code",
   "execution_count": 30,
   "id": "1e1e6377",
   "metadata": {
    "execution": {
     "iopub.execute_input": "2022-03-28T09:29:53.576976Z",
     "iopub.status.busy": "2022-03-28T09:29:53.575951Z",
     "iopub.status.idle": "2022-03-28T09:29:53.581545Z",
     "shell.execute_reply": "2022-03-28T09:29:53.582189Z",
     "shell.execute_reply.started": "2022-03-28T08:29:50.732902Z"
    },
    "id": "v15KnrNC5ejW",
    "outputId": "3ac0d534-9868-4f06-fc88-34f32855be87",
    "papermill": {
     "duration": 0.083507,
     "end_time": "2022-03-28T09:29:53.582364",
     "exception": false,
     "start_time": "2022-03-28T09:29:53.498857",
     "status": "completed"
    },
    "tags": []
   },
   "outputs": [
    {
     "data": {
      "text/plain": [
       "3"
      ]
     },
     "execution_count": 30,
     "metadata": {},
     "output_type": "execute_result"
    }
   ],
   "source": [
    "train_vectorized_labels[0]"
   ]
  },
  {
   "cell_type": "markdown",
   "id": "110be2eb",
   "metadata": {
    "id": "c-v0Mnh8xIhP",
    "papermill": {
     "duration": 0.074164,
     "end_time": "2022-03-28T09:29:53.731640",
     "exception": false,
     "start_time": "2022-03-28T09:29:53.657476",
     "status": "completed"
    },
    "tags": []
   },
   "source": [
    "## Building the Model"
   ]
  },
  {
   "cell_type": "code",
   "execution_count": 31,
   "id": "4917ce72",
   "metadata": {
    "execution": {
     "iopub.execute_input": "2022-03-28T09:29:53.884941Z",
     "iopub.status.busy": "2022-03-28T09:29:53.883899Z",
     "iopub.status.idle": "2022-03-28T09:29:53.890107Z",
     "shell.execute_reply": "2022-03-28T09:29:53.890695Z",
     "shell.execute_reply.started": "2022-03-28T09:14:02.933922Z"
    },
    "id": "OpewXxPQ5eji",
    "papermill": {
     "duration": 0.084344,
     "end_time": "2022-03-28T09:29:53.890873",
     "exception": false,
     "start_time": "2022-03-28T09:29:53.806529",
     "status": "completed"
    },
    "tags": []
   },
   "outputs": [],
   "source": [
    "def build_compile_model(num_words, maxlen):\n",
    "  model = Sequential([\n",
    "                  Embedding(input_dim=num_words, output_dim=16, input_length = maxlen),\n",
    "                  Bidirectional(LSTM(64, return_sequences=True)),\n",
    "                  Bidirectional(LSTM(32)),\n",
    "                  Dense(12, activation='relu'),\n",
    "                  Dense(6, activation='softmax')\n",
    "  ])\n",
    "\n",
    "  model.compile(\n",
    "                optimizer='adam',\n",
    "                loss='sparse_categorical_crossentropy',\n",
    "                metrics=['accuracy']\n",
    "  )\n",
    "\n",
    "  return model"
   ]
  },
  {
   "cell_type": "code",
   "execution_count": 32,
   "id": "f13b506e",
   "metadata": {
    "execution": {
     "iopub.execute_input": "2022-03-28T09:29:54.045794Z",
     "iopub.status.busy": "2022-03-28T09:29:54.044533Z",
     "iopub.status.idle": "2022-03-28T09:29:55.164282Z",
     "shell.execute_reply": "2022-03-28T09:29:55.163517Z",
     "shell.execute_reply.started": "2022-03-28T09:14:03.589486Z"
    },
    "id": "Nx1MJcdrOVsb",
    "papermill": {
     "duration": 1.199245,
     "end_time": "2022-03-28T09:29:55.164428",
     "exception": false,
     "start_time": "2022-03-28T09:29:53.965183",
     "status": "completed"
    },
    "tags": []
   },
   "outputs": [
    {
     "name": "stderr",
     "output_type": "stream",
     "text": [
      "2022-03-28 09:29:54.092350: I tensorflow/core/common_runtime/process_util.cc:146] Creating new thread pool with default inter op setting: 2. Tune using inter_op_parallelism_threads for best performance.\n"
     ]
    }
   ],
   "source": [
    "model = build_compile_model(NUM_WORDS, MAX_LEN)"
   ]
  },
  {
   "cell_type": "code",
   "execution_count": 33,
   "id": "c5fa53a1",
   "metadata": {
    "execution": {
     "iopub.execute_input": "2022-03-28T09:29:55.319748Z",
     "iopub.status.busy": "2022-03-28T09:29:55.319007Z",
     "iopub.status.idle": "2022-03-28T09:29:55.328255Z",
     "shell.execute_reply": "2022-03-28T09:29:55.327502Z",
     "shell.execute_reply.started": "2022-03-28T09:14:05.610780Z"
    },
    "id": "_2QFe_3eOchF",
    "outputId": "d9818c26-7f5f-4be7-ba53-81e0de632d69",
    "papermill": {
     "duration": 0.088429,
     "end_time": "2022-03-28T09:29:55.328469",
     "exception": false,
     "start_time": "2022-03-28T09:29:55.240040",
     "status": "completed"
    },
    "tags": []
   },
   "outputs": [
    {
     "name": "stdout",
     "output_type": "stream",
     "text": [
      "Model: \"sequential\"\n",
      "_________________________________________________________________\n",
      "Layer (type)                 Output Shape              Param #   \n",
      "=================================================================\n",
      "embedding (Embedding)        (None, 50, 16)            160000    \n",
      "_________________________________________________________________\n",
      "bidirectional (Bidirectional (None, 50, 128)           41472     \n",
      "_________________________________________________________________\n",
      "bidirectional_1 (Bidirection (None, 64)                41216     \n",
      "_________________________________________________________________\n",
      "dense (Dense)                (None, 12)                780       \n",
      "_________________________________________________________________\n",
      "dense_1 (Dense)              (None, 6)                 78        \n",
      "=================================================================\n",
      "Total params: 243,546\n",
      "Trainable params: 243,546\n",
      "Non-trainable params: 0\n",
      "_________________________________________________________________\n"
     ]
    }
   ],
   "source": [
    "model.summary()"
   ]
  },
  {
   "cell_type": "markdown",
   "id": "4c19bdee",
   "metadata": {
    "id": "1HST_CHjxIhR",
    "papermill": {
     "duration": 0.076452,
     "end_time": "2022-03-28T09:29:55.480537",
     "exception": false,
     "start_time": "2022-03-28T09:29:55.404085",
     "status": "completed"
    },
    "tags": []
   },
   "source": [
    "# Training the Model"
   ]
  },
  {
   "cell_type": "code",
   "execution_count": 34,
   "id": "5a2f23d2",
   "metadata": {
    "execution": {
     "iopub.execute_input": "2022-03-28T09:29:55.662099Z",
     "iopub.status.busy": "2022-03-28T09:29:55.661110Z",
     "iopub.status.idle": "2022-03-28T09:29:55.681163Z",
     "shell.execute_reply": "2022-03-28T09:29:55.680510Z",
     "shell.execute_reply.started": "2022-03-28T09:14:09.417130Z"
    },
    "id": "hlMKaZ3H5ejr",
    "papermill": {
     "duration": 0.123666,
     "end_time": "2022-03-28T09:29:55.681326",
     "exception": false,
     "start_time": "2022-03-28T09:29:55.557660",
     "status": "completed"
    },
    "tags": []
   },
   "outputs": [],
   "source": [
    "val_padded_sequence = padded_sequences(tokenizer, new_val_tweets, MAX_LEN, TRUNCATING, PADDING)"
   ]
  },
  {
   "cell_type": "code",
   "execution_count": 35,
   "id": "5cab8d84",
   "metadata": {
    "execution": {
     "iopub.execute_input": "2022-03-28T09:29:55.838937Z",
     "iopub.status.busy": "2022-03-28T09:29:55.837949Z",
     "iopub.status.idle": "2022-03-28T09:29:55.842390Z",
     "shell.execute_reply": "2022-03-28T09:29:55.843028Z",
     "shell.execute_reply.started": "2022-03-28T09:14:10.329888Z"
    },
    "id": "bzBqnWQ-5ejw",
    "papermill": {
     "duration": 0.084736,
     "end_time": "2022-03-28T09:29:55.843202",
     "exception": false,
     "start_time": "2022-03-28T09:29:55.758466",
     "status": "completed"
    },
    "tags": []
   },
   "outputs": [],
   "source": [
    "val_vectorized_labels = names2ids(val_label)"
   ]
  },
  {
   "cell_type": "code",
   "execution_count": 36,
   "id": "6e6f8b6b",
   "metadata": {
    "execution": {
     "iopub.execute_input": "2022-03-28T09:29:55.998724Z",
     "iopub.status.busy": "2022-03-28T09:29:55.997645Z",
     "iopub.status.idle": "2022-03-28T09:29:55.999949Z",
     "shell.execute_reply": "2022-03-28T09:29:56.000382Z",
     "shell.execute_reply.started": "2022-03-28T09:14:18.829154Z"
    },
    "id": "BeBHTMioSHkF",
    "papermill": {
     "duration": 0.082808,
     "end_time": "2022-03-28T09:29:56.000560",
     "exception": false,
     "start_time": "2022-03-28T09:29:55.917752",
     "status": "completed"
    },
    "tags": []
   },
   "outputs": [],
   "source": [
    "class myCallback(Callback):\n",
    "  def on_epoch_end(self, epoch, logs={}):\n",
    "    # Check accuracy\n",
    "    if(logs.get('loss') < 0.1):\n",
    "\n",
    "      # Stop if threshold is met\n",
    "      print(\"\\nLoss is lower than 0.02 so cancelling training!\")\n",
    "      self.model.stop_training = True\n",
    "\n",
    "# Instantiate class\n",
    "callbacks = myCallback()"
   ]
  },
  {
   "cell_type": "code",
   "execution_count": 37,
   "id": "7ae17be5",
   "metadata": {
    "execution": {
     "iopub.execute_input": "2022-03-28T09:29:56.157960Z",
     "iopub.status.busy": "2022-03-28T09:29:56.157237Z",
     "iopub.status.idle": "2022-03-28T09:42:24.711002Z",
     "shell.execute_reply": "2022-03-28T09:42:24.711513Z",
     "shell.execute_reply.started": "2022-03-28T09:14:19.371871Z"
    },
    "id": "MI8UK2soRIIP",
    "outputId": "db55df28-548c-43b9-cc2f-7b469aced1a6",
    "papermill": {
     "duration": 748.635381,
     "end_time": "2022-03-28T09:42:24.711754",
     "exception": false,
     "start_time": "2022-03-28T09:29:56.076373",
     "status": "completed"
    },
    "tags": []
   },
   "outputs": [
    {
     "name": "stderr",
     "output_type": "stream",
     "text": [
      "2022-03-28 09:29:56.214004: I tensorflow/compiler/mlir/mlir_graph_optimization_pass.cc:185] None of the MLIR Optimization Passes are enabled (registered 2)\n"
     ]
    },
    {
     "name": "stdout",
     "output_type": "stream",
     "text": [
      "Epoch 1/15\n",
      "500/500 [==============================] - 56s 101ms/step - loss: 1.2107 - accuracy: 0.5191 - val_loss: 0.7668 - val_accuracy: 0.7430\n",
      "Epoch 2/15\n",
      "500/500 [==============================] - 50s 99ms/step - loss: 0.4862 - accuracy: 0.8349 - val_loss: 0.5448 - val_accuracy: 0.8325\n",
      "Epoch 3/15\n",
      "500/500 [==============================] - 49s 97ms/step - loss: 0.2889 - accuracy: 0.9066 - val_loss: 0.5102 - val_accuracy: 0.8550\n",
      "Epoch 4/15\n",
      "500/500 [==============================] - 49s 98ms/step - loss: 0.1954 - accuracy: 0.9398 - val_loss: 0.4296 - val_accuracy: 0.8720\n",
      "Epoch 5/15\n",
      "500/500 [==============================] - 49s 98ms/step - loss: 0.1341 - accuracy: 0.9576 - val_loss: 0.4162 - val_accuracy: 0.8850\n",
      "Epoch 6/15\n",
      "500/500 [==============================] - 49s 98ms/step - loss: 0.1001 - accuracy: 0.9674 - val_loss: 0.4100 - val_accuracy: 0.8900\n",
      "Epoch 7/15\n",
      "500/500 [==============================] - 50s 99ms/step - loss: 0.0774 - accuracy: 0.9749 - val_loss: 0.4416 - val_accuracy: 0.8915\n",
      "Epoch 8/15\n",
      "500/500 [==============================] - 51s 101ms/step - loss: 0.0661 - accuracy: 0.9775 - val_loss: 0.4158 - val_accuracy: 0.8920\n",
      "Epoch 9/15\n",
      "500/500 [==============================] - 49s 99ms/step - loss: 0.0569 - accuracy: 0.9801 - val_loss: 0.4441 - val_accuracy: 0.8920\n",
      "Epoch 10/15\n",
      "500/500 [==============================] - 51s 102ms/step - loss: 0.0475 - accuracy: 0.9837 - val_loss: 0.4399 - val_accuracy: 0.8930\n",
      "Epoch 11/15\n",
      "500/500 [==============================] - 49s 97ms/step - loss: 0.0456 - accuracy: 0.9837 - val_loss: 0.4568 - val_accuracy: 0.8970\n",
      "Epoch 12/15\n",
      "500/500 [==============================] - 50s 100ms/step - loss: 0.0376 - accuracy: 0.9861 - val_loss: 0.4395 - val_accuracy: 0.9020\n",
      "Epoch 13/15\n",
      "500/500 [==============================] - 49s 99ms/step - loss: 0.0327 - accuracy: 0.9884 - val_loss: 0.4958 - val_accuracy: 0.8865\n",
      "Epoch 14/15\n",
      "500/500 [==============================] - 49s 98ms/step - loss: 0.0334 - accuracy: 0.9874 - val_loss: 0.4632 - val_accuracy: 0.8985\n",
      "Epoch 15/15\n",
      "500/500 [==============================] - 49s 99ms/step - loss: 0.0296 - accuracy: 0.9884 - val_loss: 0.4677 - val_accuracy: 0.8980\n"
     ]
    }
   ],
   "source": [
    "history = model.fit(\n",
    "                  train_padded_sequences, train_vectorized_labels,\n",
    "                  validation_data=(val_padded_sequence, val_vectorized_labels),\n",
    "                  epochs=15,\n",
    "                  #callbacks=[callbacks]\n",
    ")"
   ]
  },
  {
   "cell_type": "markdown",
   "id": "eb5ae29a",
   "metadata": {
    "id": "EdsJyMTLxIhX",
    "papermill": {
     "duration": 3.118359,
     "end_time": "2022-03-28T09:42:30.678048",
     "exception": false,
     "start_time": "2022-03-28T09:42:27.559689",
     "status": "completed"
    },
    "tags": []
   },
   "source": [
    "## Evaluating the Model\n",
    "\n",
    "1. Visualizing training history\n",
    "2. Prepraring a test set\n",
    "3. A look at individual predictions on the test set\n",
    "4. A look at all predictions on the test set"
   ]
  },
  {
   "cell_type": "code",
   "execution_count": 38,
   "id": "9bf1ba6b",
   "metadata": {
    "execution": {
     "iopub.execute_input": "2022-03-28T09:42:36.388871Z",
     "iopub.status.busy": "2022-03-28T09:42:36.388129Z",
     "iopub.status.idle": "2022-03-28T09:42:36.391320Z",
     "shell.execute_reply": "2022-03-28T09:42:36.390795Z",
     "shell.execute_reply.started": "2022-03-28T09:26:28.512984Z"
    },
    "id": "37q53SkVzCuC",
    "papermill": {
     "duration": 2.857156,
     "end_time": "2022-03-28T09:42:36.391470",
     "exception": false,
     "start_time": "2022-03-28T09:42:33.534314",
     "status": "completed"
    },
    "tags": []
   },
   "outputs": [],
   "source": [
    "def show_history(h):\n",
    "    epochs_trained = len(h.history['loss'])\n",
    "    plt.figure(figsize=(16, 6))\n",
    "\n",
    "    plt.subplot(1, 2, 1)\n",
    "    plt.plot(range(0, epochs_trained), h.history.get('accuracy'), label='Training')\n",
    "    plt.plot(range(0, epochs_trained), h.history.get('val_accuracy'), label='Validation')\n",
    "    plt.ylim([0., 1.])\n",
    "    plt.xlabel('Epochs')\n",
    "    plt.ylabel('Accuracy')\n",
    "    plt.legend()\n",
    "\n",
    "    plt.subplot(1, 2, 2)\n",
    "    plt.plot(range(0, epochs_trained), h.history.get('loss'), label='Training')\n",
    "    plt.plot(range(0, epochs_trained), h.history.get('val_loss'), label='Validation')\n",
    "    plt.xlabel('Epochs')\n",
    "    plt.ylabel('Loss')\n",
    "    plt.legend()\n",
    "    plt.show()"
   ]
  },
  {
   "cell_type": "code",
   "execution_count": 39,
   "id": "edf1592b",
   "metadata": {
    "execution": {
     "iopub.execute_input": "2022-03-28T09:42:42.186287Z",
     "iopub.status.busy": "2022-03-28T09:42:42.185536Z",
     "iopub.status.idle": "2022-03-28T09:42:42.528750Z",
     "shell.execute_reply": "2022-03-28T09:42:42.528093Z",
     "shell.execute_reply.started": "2022-03-28T09:26:28.945151Z"
    },
    "id": "I9dQ98l2W5Hn",
    "outputId": "af0a4cc2-bd2c-4cf5-c160-63b29c7778fa",
    "papermill": {
     "duration": 3.291849,
     "end_time": "2022-03-28T09:42:42.528899",
     "exception": false,
     "start_time": "2022-03-28T09:42:39.237050",
     "status": "completed"
    },
    "tags": []
   },
   "outputs": [
    {
     "data": {
      "image/png": "[encoded data removed]",
      "text/plain": [
       "<Figure size 1152x432 with 2 Axes>"
      ]
     },
     "metadata": {
      "needs_background": "light"
     },
     "output_type": "display_data"
    }
   ],
   "source": [
    "# LSTM model\n",
    "# Visualizing training history\n",
    "\n",
    "show_history(history)"
   ]
  },
  {
   "cell_type": "code",
   "execution_count": 40,
   "id": "f539b7ce",
   "metadata": {
    "execution": {
     "iopub.execute_input": "2022-03-28T09:42:48.234658Z",
     "iopub.status.busy": "2022-03-28T09:42:48.233918Z",
     "iopub.status.idle": "2022-03-28T09:42:54.878035Z",
     "shell.execute_reply": "2022-03-28T09:42:54.877391Z",
     "shell.execute_reply.started": "2022-03-28T09:26:36.498025Z"
    },
    "id": "hNEWXLbUQMhX",
    "papermill": {
     "duration": 9.491909,
     "end_time": "2022-03-28T09:42:54.878203",
     "exception": false,
     "start_time": "2022-03-28T09:42:45.386294",
     "status": "completed"
    },
    "tags": []
   },
   "outputs": [],
   "source": [
    "# Prepraring a test set\n",
    "new_test_tweets = [preprocess(tweet) for tweet in test_tweet]"
   ]
  },
  {
   "cell_type": "code",
   "execution_count": 41,
   "id": "178554e3",
   "metadata": {
    "execution": {
     "iopub.execute_input": "2022-03-28T09:43:00.630745Z",
     "iopub.status.busy": "2022-03-28T09:43:00.629744Z",
     "iopub.status.idle": "2022-03-28T09:43:00.679156Z",
     "shell.execute_reply": "2022-03-28T09:43:00.679648Z",
     "shell.execute_reply.started": "2022-03-28T09:26:42.963084Z"
    },
    "id": "ENCfvXeLxIhX",
    "papermill": {
     "duration": 2.911633,
     "end_time": "2022-03-28T09:43:00.679835",
     "exception": false,
     "start_time": "2022-03-28T09:42:57.768202",
     "status": "completed"
    },
    "tags": []
   },
   "outputs": [],
   "source": [
    "# Padding test set\n",
    "# Vectorizing test set\n",
    "test_padded_sequence = padded_sequences(tokenizer, test_tweet, MAX_LEN, TRUNCATING, PADDING)\n",
    "test_vectorized_labels = names2ids(test_label)"
   ]
  },
  {
   "cell_type": "code",
   "execution_count": 42,
   "id": "0194b369",
   "metadata": {
    "execution": {
     "iopub.execute_input": "2022-03-28T09:43:06.543299Z",
     "iopub.status.busy": "2022-03-28T09:43:06.542629Z",
     "iopub.status.idle": "2022-03-28T09:43:08.542127Z",
     "shell.execute_reply": "2022-03-28T09:43:08.541536Z",
     "shell.execute_reply.started": "2022-03-28T09:26:43.024316Z"
    },
    "id": "kWuzoz8uxIha",
    "outputId": "c08387af-5bad-481c-8a3b-048390f2bde2",
    "papermill": {
     "duration": 4.90017,
     "end_time": "2022-03-28T09:43:08.542283",
     "exception": false,
     "start_time": "2022-03-28T09:43:03.642113",
     "status": "completed"
    },
    "tags": []
   },
   "outputs": [
    {
     "name": "stdout",
     "output_type": "stream",
     "text": [
      "63/63 [==============================] - 2s 31ms/step - loss: 0.7497 - accuracy: 0.8270\n"
     ]
    }
   ],
   "source": [
    "# Evaluating the model on test set\n",
    "_ = model.evaluate(test_padded_sequence, test_vectorized_labels)"
   ]
  },
  {
   "cell_type": "code",
   "execution_count": 43,
   "id": "5f6e334c",
   "metadata": {
    "execution": {
     "iopub.execute_input": "2022-03-28T09:43:14.272734Z",
     "iopub.status.busy": "2022-03-28T09:43:14.272027Z",
     "iopub.status.idle": "2022-03-28T09:43:15.849408Z",
     "shell.execute_reply": "2022-03-28T09:43:15.848707Z",
     "shell.execute_reply.started": "2022-03-28T09:26:49.529245Z"
    },
    "id": "7vRVJ_2SxIhc",
    "outputId": "e9b58a93-029d-458f-8ee1-b3d7eb109790",
    "papermill": {
     "duration": 4.479962,
     "end_time": "2022-03-28T09:43:15.849553",
     "exception": false,
     "start_time": "2022-03-28T09:43:11.369591",
     "status": "completed"
    },
    "tags": []
   },
   "outputs": [
    {
     "name": "stdout",
     "output_type": "stream",
     "text": [
      "Sentence: i have been feeling shaky this morning after taking them as well\n",
      "Emotion: fear\n",
      "Predicted Emotion: fear\n"
     ]
    }
   ],
   "source": [
    "# Prediction\n",
    "\n",
    "i = random.randint(0, len(test_label) - 1)\n",
    "\n",
    "print('Sentence:', test_tweet[i])\n",
    "print('Emotion:', test_label[i])\n",
    "\n",
    "p = model.predict(np.expand_dims(test_padded_sequence[i], axis=0))[0]\n",
    "print('Predicted Emotion:', idx2class.get(np.argmax(p)))"
   ]
  },
  {
   "cell_type": "code",
   "execution_count": 44,
   "id": "945ff561",
   "metadata": {
    "execution": {
     "iopub.execute_input": "2022-03-28T09:43:21.644403Z",
     "iopub.status.busy": "2022-03-28T09:43:21.643660Z",
     "iopub.status.idle": "2022-03-28T09:43:23.541424Z",
     "shell.execute_reply": "2022-03-28T09:43:23.541948Z",
     "shell.execute_reply.started": "2022-03-28T09:26:56.029393Z"
    },
    "id": "rh638vHG5ej6",
    "outputId": "51ffdee8-15bf-4a1c-dd53-28f02beedb3d",
    "papermill": {
     "duration": 4.754068,
     "end_time": "2022-03-28T09:43:23.542144",
     "exception": false,
     "start_time": "2022-03-28T09:43:18.788076",
     "status": "completed"
    },
    "tags": []
   },
   "outputs": [
    {
     "data": {
      "text/plain": [
       "(2000, 6)"
      ]
     },
     "execution_count": 44,
     "metadata": {},
     "output_type": "execute_result"
    }
   ],
   "source": [
    "preds = model.predict(test_padded_sequence)\n",
    "preds.shape"
   ]
  },
  {
   "cell_type": "code",
   "execution_count": 45,
   "id": "25518a1d",
   "metadata": {
    "execution": {
     "iopub.execute_input": "2022-03-28T09:43:29.370177Z",
     "iopub.status.busy": "2022-03-28T09:43:29.369455Z",
     "iopub.status.idle": "2022-03-28T09:43:29.380324Z",
     "shell.execute_reply": "2022-03-28T09:43:29.380938Z",
     "shell.execute_reply.started": "2022-03-28T09:26:59.608671Z"
    },
    "id": "YvlmZ4WwrN7o",
    "papermill": {
     "duration": 2.937754,
     "end_time": "2022-03-28T09:43:29.381121",
     "exception": false,
     "start_time": "2022-03-28T09:43:26.443367",
     "status": "completed"
    },
    "tags": []
   },
   "outputs": [],
   "source": [
    "convert_preds = [np.argmax(preds[i]) for i in range(len(preds))]"
   ]
  },
  {
   "cell_type": "code",
   "execution_count": 46,
   "id": "c2e6cb97",
   "metadata": {
    "execution": {
     "iopub.execute_input": "2022-03-28T09:43:35.240292Z",
     "iopub.status.busy": "2022-03-28T09:43:35.239576Z",
     "iopub.status.idle": "2022-03-28T09:43:35.244545Z",
     "shell.execute_reply": "2022-03-28T09:43:35.245098Z",
     "shell.execute_reply.started": "2022-03-28T09:26:59.992750Z"
    },
    "id": "gaimLFwSr1qe",
    "papermill": {
     "duration": 3.013314,
     "end_time": "2022-03-28T09:43:35.245294",
     "exception": false,
     "start_time": "2022-03-28T09:43:32.231980",
     "status": "completed"
    },
    "tags": []
   },
   "outputs": [],
   "source": [
    "new_preds = [idx2class[i] for i in convert_preds]"
   ]
  },
  {
   "cell_type": "code",
   "execution_count": 47,
   "id": "a2ec8875",
   "metadata": {
    "execution": {
     "iopub.execute_input": "2022-03-28T09:43:41.048810Z",
     "iopub.status.busy": "2022-03-28T09:43:41.048135Z",
     "iopub.status.idle": "2022-03-28T09:43:41.053242Z",
     "shell.execute_reply": "2022-03-28T09:43:41.053828Z",
     "shell.execute_reply.started": "2022-03-28T09:27:00.747513Z"
    },
    "id": "Yttbe_kdsV5x",
    "outputId": "69f1e6e6-11b4-47f3-9177-f4ad74c1b52d",
    "papermill": {
     "duration": 2.874292,
     "end_time": "2022-03-28T09:43:41.054003",
     "exception": false,
     "start_time": "2022-03-28T09:43:38.179711",
     "status": "completed"
    },
    "tags": []
   },
   "outputs": [
    {
     "data": {
      "text/plain": [
       "['sadness', 'sadness', 'anger', 'joy', 'sadness']"
      ]
     },
     "execution_count": 47,
     "metadata": {},
     "output_type": "execute_result"
    }
   ],
   "source": [
    "new_preds[:5]"
   ]
  },
  {
   "cell_type": "code",
   "execution_count": 48,
   "id": "b309cbbf",
   "metadata": {
    "execution": {
     "iopub.execute_input": "2022-03-28T09:43:46.785251Z",
     "iopub.status.busy": "2022-03-28T09:43:46.784578Z",
     "iopub.status.idle": "2022-03-28T09:43:46.791316Z",
     "shell.execute_reply": "2022-03-28T09:43:46.791871Z",
     "shell.execute_reply.started": "2022-03-28T09:27:03.709650Z"
    },
    "id": "iUQMxjVwzMxU",
    "papermill": {
     "duration": 2.881878,
     "end_time": "2022-03-28T09:43:46.792064",
     "exception": false,
     "start_time": "2022-03-28T09:43:43.910186",
     "status": "completed"
    },
    "tags": []
   },
   "outputs": [],
   "source": [
    "def show_confusion_matrix(y_true, y_pred, classes):\n",
    "    from sklearn.metrics import confusion_matrix\n",
    "    \n",
    "    cm = confusion_matrix(y_true, y_pred, normalize='true')\n",
    "\n",
    "    plt.figure(figsize=(8, 8))\n",
    "    sp = plt.subplot(1, 1, 1)\n",
    "    ctx = sp.matshow(cm)\n",
    "    plt.xticks(list(range(0, 6)), labels=classes)\n",
    "    plt.yticks(list(range(0, 6)), labels=classes)\n",
    "    plt.colorbar(ctx)\n",
    "    plt.show()"
   ]
  },
  {
   "cell_type": "code",
   "execution_count": 49,
   "id": "b88db19e",
   "metadata": {
    "execution": {
     "iopub.execute_input": "2022-03-28T09:43:52.571850Z",
     "iopub.status.busy": "2022-03-28T09:43:52.571153Z",
     "iopub.status.idle": "2022-03-28T09:43:52.928063Z",
     "shell.execute_reply": "2022-03-28T09:43:52.928573Z",
     "shell.execute_reply.started": "2022-03-28T09:27:07.428827Z"
    },
    "id": "hHl5SVCFxIhh",
    "outputId": "4f30828a-06c5-4713-ccd8-35d5ce87c675",
    "papermill": {
     "duration": 3.206754,
     "end_time": "2022-03-28T09:43:52.928799",
     "exception": false,
     "start_time": "2022-03-28T09:43:49.722045",
     "status": "completed"
    },
    "tags": []
   },
   "outputs": [
    {
     "data": {
      "image/png": "[encoded data removed]",
      "text/plain": [
       "<Figure size 576x576 with 2 Axes>"
      ]
     },
     "metadata": {
      "needs_background": "light"
     },
     "output_type": "display_data"
    }
   ],
   "source": [
    "show_confusion_matrix(test_label, new_preds, list(classes))"
   ]
  },
  {
   "cell_type": "code",
   "execution_count": null,
   "id": "101f53bf",
   "metadata": {
    "papermill": {
     "duration": 2.943754,
     "end_time": "2022-03-28T09:43:58.734141",
     "exception": false,
     "start_time": "2022-03-28T09:43:55.790387",
     "status": "completed"
    },
    "tags": []
   },
   "outputs": [],
   "source": []
  }
 ],
 "metadata": {
  "kernelspec": {
   "display_name": "Python 3",
   "language": "python",
   "name": "python3"
  },
  "language_info": {
   "codemirror_mode": {
    "name": "ipython",
    "version": 3
   },
   "file_extension": ".py",
   "mimetype": "text/x-python",
   "name": "python",
   "nbconvert_exporter": "python",
   "pygments_lexer": "ipython3",
   "version": "3.7.12"
  },
  "papermill": {
   "default_parameters": {},
   "duration": 975.196204,
   "end_time": "2022-03-28T09:44:04.678491",
   "environment_variables": {},
   "exception": null,
   "input_path": "__notebook__.ipynb",
   "output_path": "__notebook__.ipynb",
   "parameters": {},
   "start_time": "2022-03-28T09:27:49.482287",
   "version": "2.3.3"
  },
  "widgets": {
   "application/vnd.jupyter.widget-state+json": {
    "state": {
     "0209617f35f849a2bd4e67e8090d9601": {
      "model_module": "@jupyter-widgets/base",
      "model_module_version": "1.2.0",
      "model_name": "LayoutModel",
      "state": {
       "_model_module": "@jupyter-widgets/base",
       "_model_module_version": "1.2.0",
       "_model_name": "LayoutModel",
       "_view_count": null,
       "_view_module": "@jupyter-widgets/base",
       "_view_module_version": "1.2.0",
       "_view_name": "LayoutView",
       "align_content": null,
       "align_items": null,
       "align_self": null,
       "border": null,
       "bottom": null,
       "display": null,
       "flex": null,
       "flex_flow": null,
       "grid_area": null,
       "grid_auto_columns": null,
       "grid_auto_flow": null,
       "grid_auto_rows": null,
       "grid_column": null,
       "grid_gap": null,
       "grid_row": null,
       "grid_template_areas": null,
       "grid_template_columns": null,
       "grid_template_rows": null,
       "height": null,
       "justify_content": null,
       "justify_items": null,
       "left": null,
       "margin": null,
       "max_height": null,
       "max_width": null,
       "min_height": null,
       "min_width": null,
       "object_fit": null,
       "object_position": null,
       "order": null,
       "overflow": null,
       "overflow_x": null,
       "overflow_y": null,
       "padding": null,
       "right": null,
       "top": null,
       "visibility": null,
       "width": null
      }
     },
     "0333769e2af54e819b3925c620b14a91": {
      "model_module": "@jupyter-widgets/controls",
      "model_module_version": "1.5.0",
      "model_name": "ProgressStyleModel",
      "state": {
       "_model_module": "@jupyter-widgets/controls",
       "_model_module_version": "1.5.0",
       "_model_name": "ProgressStyleModel",
       "_view_count": null,
       "_view_module": "@jupyter-widgets/base",
       "_view_module_version": "1.2.0",
       "_view_name": "StyleView",
       "bar_color": null,
       "description_width": ""
      }
     },
     "07e70d075920412498b194856ea38245": {
      "model_module": "@jupyter-widgets/controls",
      "model_module_version": "1.5.0",
      "model_name": "FloatProgressModel",
      "state": {
       "_dom_classes": [],
       "_model_module": "@jupyter-widgets/controls",
       "_model_module_version": "1.5.0",
       "_model_name": "FloatProgressModel",
       "_view_count": null,
       "_view_module": "@jupyter-widgets/controls",
       "_view_module_version": "1.5.0",
       "_view_name": "ProgressView",
       "bar_style": "success",
       "description": "",
       "description_tooltip": null,
       "layout": "IPY_MODEL_701a6054b2844f42afe57d825cf7b77d",
       "max": 3406.0,
       "min": 0.0,
       "orientation": "horizontal",
       "style": "IPY_MODEL_5006d317fce54350b4a675c9d30383ae",
       "value": 3406.0
      }
     },
     "0d2c21442e754b698c8c612e75fa1d00": {
      "model_module": "@jupyter-widgets/controls",
      "model_module_version": "1.5.0",
      "model_name": "DescriptionStyleModel",
      "state": {
       "_model_module": "@jupyter-widgets/controls",
       "_model_module_version": "1.5.0",
       "_model_name": "DescriptionStyleModel",
       "_view_count": null,
       "_view_module": "@jupyter-widgets/base",
       "_view_module_version": "1.2.0",
       "_view_name": "StyleView",
       "description_width": ""
      }
     },
     "11be7fb0647840b3b020b576010e45f5": {
      "model_module": "@jupyter-widgets/controls",
      "model_module_version": "1.5.0",
      "model_name": "HTMLModel",
      "state": {
       "_dom_classes": [],
       "_model_module": "@jupyter-widgets/controls",
       "_model_module_version": "1.5.0",
       "_model_name": "HTMLModel",
       "_view_count": null,
       "_view_module": "@jupyter-widgets/controls",
       "_view_module_version": "1.5.0",
       "_view_name": "HTMLView",
       "description": "",
       "description_tooltip": null,
       "layout": "IPY_MODEL_4450f6eb35fe46b5a315b511d4130551",
       "placeholder": "​",
       "style": "IPY_MODEL_d0dca5a9da7f40eaa2560267bc265a39",
       "value": " 207k/207k [00:00&lt;00:00, 271kB/s]"
      }
     },
     "16f05b8b7c314fe0ad93e750a26824f6": {
      "model_module": "@jupyter-widgets/controls",
      "model_module_version": "1.5.0",
      "model_name": "HTMLModel",
      "state": {
       "_dom_classes": [],
       "_model_module": "@jupyter-widgets/controls",
       "_model_module_version": "1.5.0",
       "_model_name": "HTMLModel",
       "_view_count": null,
       "_view_module": "@jupyter-widgets/controls",
       "_view_module_version": "1.5.0",
       "_view_name": "HTMLView",
       "description": "",
       "description_tooltip": null,
       "layout": "IPY_MODEL_a56f758ae5654b87a9d5dc570516889c",
       "placeholder": "​",
       "style": "IPY_MODEL_837a2c1023aa4732baad6794b0e14444",
       "value": " 204k/204k [00:00&lt;00:00, 273kB/s]"
      }
     },
     "1a4dacc5cc654e5ea630bbf55cab72fa": {
      "model_module": "@jupyter-widgets/base",
      "model_module_version": "1.2.0",
      "model_name": "LayoutModel",
      "state": {
       "_model_module": "@jupyter-widgets/base",
       "_model_module_version": "1.2.0",
       "_model_name": "LayoutModel",
       "_view_count": null,
       "_view_module": "@jupyter-widgets/base",
       "_view_module_version": "1.2.0",
       "_view_name": "LayoutView",
       "align_content": null,
       "align_items": null,
       "align_self": null,
       "border": null,
       "bottom": null,
       "display": null,
       "flex": null,
       "flex_flow": null,
       "grid_area": null,
       "grid_auto_columns": null,
       "grid_auto_flow": null,
       "grid_auto_rows": null,
       "grid_column": null,
       "grid_gap": null,
       "grid_row": null,
       "grid_template_areas": null,
       "grid_template_columns": null,
       "grid_template_rows": null,
       "height": null,
       "justify_content": null,
       "justify_items": null,
       "left": null,
       "margin": null,
       "max_height": null,
       "max_width": null,
       "min_height": null,
       "min_width": null,
       "object_fit": null,
       "object_position": null,
       "order": null,
       "overflow": null,
       "overflow_x": null,
       "overflow_y": null,
       "padding": null,
       "right": null,
       "top": null,
       "visibility": null,
       "width": null
      }
     },
     "1c864f8ba6334ac1b1ab6eee378d0782": {
      "model_module": "@jupyter-widgets/base",
      "model_module_version": "1.2.0",
      "model_name": "LayoutModel",
      "state": {
       "_model_module": "@jupyter-widgets/base",
       "_model_module_version": "1.2.0",
       "_model_name": "LayoutModel",
       "_view_count": null,
       "_view_module": "@jupyter-widgets/base",
       "_view_module_version": "1.2.0",
       "_view_name": "LayoutView",
       "align_content": null,
       "align_items": null,
       "align_self": null,
       "border": null,
       "bottom": null,
       "display": null,
       "flex": null,
       "flex_flow": null,
       "grid_area": null,
       "grid_auto_columns": null,
       "grid_auto_flow": null,
       "grid_auto_rows": null,
       "grid_column": null,
       "grid_gap": null,
       "grid_row": null,
       "grid_template_areas": null,
       "grid_template_columns": null,
       "grid_template_rows": null,
       "height": null,
       "justify_content": null,
       "justify_items": null,
       "left": null,
       "margin": null,
       "max_height": null,
       "max_width": null,
       "min_height": null,
       "min_width": null,
       "object_fit": null,
       "object_position": null,
       "order": null,
       "overflow": null,
       "overflow_x": null,
       "overflow_y": null,
       "padding": null,
       "right": null,
       "top": null,
       "visibility": null,
       "width": null
      }
     },
     "1dba892214254696bb9d53abd8f5127a": {
      "model_module": "@jupyter-widgets/controls",
      "model_module_version": "1.5.0",
      "model_name": "HTMLModel",
      "state": {
       "_dom_classes": [],
       "_model_module": "@jupyter-widgets/controls",
       "_model_module_version": "1.5.0",
       "_model_name": "HTMLModel",
       "_view_count": null,
       "_view_module": "@jupyter-widgets/controls",
       "_view_module_version": "1.5.0",
       "_view_name": "HTMLView",
       "description": "",
       "description_tooltip": null,
       "layout": "IPY_MODEL_2303658ef15b47eb978e6f0eff04ef35",
       "placeholder": "​",
       "style": "IPY_MODEL_9eb47563b4774a9a9e8b1c1db0b6aa1f",
       "value": "Downloading: 100%"
      }
     },
     "1e17807e2a7e4ea7a639bbfe91719d0c": {
      "model_module": "@jupyter-widgets/controls",
      "model_module_version": "1.5.0",
      "model_name": "HTMLModel",
      "state": {
       "_dom_classes": [],
       "_model_module": "@jupyter-widgets/controls",
       "_model_module_version": "1.5.0",
       "_model_name": "HTMLModel",
       "_view_count": null,
       "_view_module": "@jupyter-widgets/controls",
       "_view_module_version": "1.5.0",
       "_view_name": "HTMLView",
       "description": "",
       "description_tooltip": null,
       "layout": "IPY_MODEL_f94fcbcb1eb94dc395f91918efce7e33",
       "placeholder": "​",
       "style": "IPY_MODEL_923cca8023fc43a48826dc5baf58c4f0",
       "value": " 12201/0 [00:00&lt;00:00, 38448.05 examples/s]"
      }
     },
     "22519c29e4a74f828f7426832869d9f1": {
      "model_module": "@jupyter-widgets/controls",
      "model_module_version": "1.5.0",
      "model_name": "DescriptionStyleModel",
      "state": {
       "_model_module": "@jupyter-widgets/controls",
       "_model_module_version": "1.5.0",
       "_model_name": "DescriptionStyleModel",
       "_view_count": null,
       "_view_module": "@jupyter-widgets/base",
       "_view_module_version": "1.2.0",
       "_view_name": "StyleView",
       "description_width": ""
      }
     },
     "2303658ef15b47eb978e6f0eff04ef35": {
      "model_module": "@jupyter-widgets/base",
      "model_module_version": "1.2.0",
      "model_name": "LayoutModel",
      "state": {
       "_model_module": "@jupyter-widgets/base",
       "_model_module_version": "1.2.0",
       "_model_name": "LayoutModel",
       "_view_count": null,
       "_view_module": "@jupyter-widgets/base",
       "_view_module_version": "1.2.0",
       "_view_name": "LayoutView",
       "align_content": null,
       "align_items": null,
       "align_self": null,
       "border": null,
       "bottom": null,
       "display": null,
       "flex": null,
       "flex_flow": null,
       "grid_area": null,
       "grid_auto_columns": null,
       "grid_auto_flow": null,
       "grid_auto_rows": null,
       "grid_column": null,
       "grid_gap": null,
       "grid_row": null,
       "grid_template_areas": null,
       "grid_template_columns": null,
       "grid_template_rows": null,
       "height": null,
       "justify_content": null,
       "justify_items": null,
       "left": null,
       "margin": null,
       "max_height": null,
       "max_width": null,
       "min_height": null,
       "min_width": null,
       "object_fit": null,
       "object_position": null,
       "order": null,
       "overflow": null,
       "overflow_x": null,
       "overflow_y": null,
       "padding": null,
       "right": null,
       "top": null,
       "visibility": null,
       "width": null
      }
     },
     "240f977e18c8468d8575795cf3de5fa1": {
      "model_module": "@jupyter-widgets/controls",
      "model_module_version": "1.5.0",
      "model_name": "HTMLModel",
      "state": {
       "_dom_classes": [],
       "_model_module": "@jupyter-widgets/controls",
       "_model_module_version": "1.5.0",
       "_model_name": "HTMLModel",
       "_view_count": null,
       "_view_module": "@jupyter-widgets/controls",
       "_view_module_version": "1.5.0",
       "_view_name": "HTMLView",
       "description": "",
       "description_tooltip": null,
       "layout": "IPY_MODEL_c96c312439414fe6bc068b0b7d462428",
       "placeholder": "​",
       "style": "IPY_MODEL_39bd03b4777441119a5d63a9afd17c9f",
       "value": "Downloading: 100%"
      }
     },
     "28b0af0a8cfe42bcab3f2cb08d7ffbf4": {
      "model_module": "@jupyter-widgets/controls",
      "model_module_version": "1.5.0",
      "model_name": "FloatProgressModel",
      "state": {
       "_dom_classes": [],
       "_model_module": "@jupyter-widgets/controls",
       "_model_module_version": "1.5.0",
       "_model_name": "FloatProgressModel",
       "_view_count": null,
       "_view_module": "@jupyter-widgets/controls",
       "_view_module_version": "1.5.0",
       "_view_name": "ProgressView",
       "bar_style": "success",
       "description": "",
       "description_tooltip": null,
       "layout": "IPY_MODEL_7d2359f7f17049c78da8a3ba4f42e475",
       "max": 1658616.0,
       "min": 0.0,
       "orientation": "horizontal",
       "style": "IPY_MODEL_2bba5d32414f4ad2a891ea8738b32b11",
       "value": 1658616.0
      }
     },
     "2bba5d32414f4ad2a891ea8738b32b11": {
      "model_module": "@jupyter-widgets/controls",
      "model_module_version": "1.5.0",
      "model_name": "ProgressStyleModel",
      "state": {
       "_model_module": "@jupyter-widgets/controls",
       "_model_module_version": "1.5.0",
       "_model_name": "ProgressStyleModel",
       "_view_count": null,
       "_view_module": "@jupyter-widgets/base",
       "_view_module_version": "1.2.0",
       "_view_name": "StyleView",
       "bar_color": null,
       "description_width": ""
      }
     },
     "2dce3cbd8d6a42ca996cddd08e3bc072": {
      "model_module": "@jupyter-widgets/base",
      "model_module_version": "1.2.0",
      "model_name": "LayoutModel",
      "state": {
       "_model_module": "@jupyter-widgets/base",
       "_model_module_version": "1.2.0",
       "_model_name": "LayoutModel",
       "_view_count": null,
       "_view_module": "@jupyter-widgets/base",
       "_view_module_version": "1.2.0",
       "_view_name": "LayoutView",
       "align_content": null,
       "align_items": null,
       "align_self": null,
       "border": null,
       "bottom": null,
       "display": null,
       "flex": null,
       "flex_flow": null,
       "grid_area": null,
       "grid_auto_columns": null,
       "grid_auto_flow": null,
       "grid_auto_rows": null,
       "grid_column": null,
       "grid_gap": null,
       "grid_row": null,
       "grid_template_areas": null,
       "grid_template_columns": null,
       "grid_template_rows": null,
       "height": null,
       "justify_content": null,
       "justify_items": null,
       "left": null,
       "margin": null,
       "max_height": null,
       "max_width": null,
       "min_height": null,
       "min_width": null,
       "object_fit": null,
       "object_position": null,
       "order": null,
       "overflow": null,
       "overflow_x": null,
       "overflow_y": null,
       "padding": null,
       "right": null,
       "top": null,
       "visibility": null,
       "width": null
      }
     },
     "37108f3ff92a44c58b75530e701aae23": {
      "model_module": "@jupyter-widgets/controls",
      "model_module_version": "1.5.0",
      "model_name": "DescriptionStyleModel",
      "state": {
       "_model_module": "@jupyter-widgets/controls",
       "_model_module_version": "1.5.0",
       "_model_name": "DescriptionStyleModel",
       "_view_count": null,
       "_view_module": "@jupyter-widgets/base",
       "_view_module_version": "1.2.0",
       "_view_name": "StyleView",
       "description_width": ""
      }
     },
     "3936d4dc08ab4eba9f9e3525600da5c0": {
      "model_module": "@jupyter-widgets/controls",
      "model_module_version": "1.5.0",
      "model_name": "DescriptionStyleModel",
      "state": {
       "_model_module": "@jupyter-widgets/controls",
       "_model_module_version": "1.5.0",
       "_model_name": "DescriptionStyleModel",
       "_view_count": null,
       "_view_module": "@jupyter-widgets/base",
       "_view_module_version": "1.2.0",
       "_view_name": "StyleView",
       "description_width": ""
      }
     },
     "397b18ed68914639a56e45f7f73f66d8": {
      "model_module": "@jupyter-widgets/base",
      "model_module_version": "1.2.0",
      "model_name": "LayoutModel",
      "state": {
       "_model_module": "@jupyter-widgets/base",
       "_model_module_version": "1.2.0",
       "_model_name": "LayoutModel",
       "_view_count": null,
       "_view_module": "@jupyter-widgets/base",
       "_view_module_version": "1.2.0",
       "_view_name": "LayoutView",
       "align_content": null,
       "align_items": null,
       "align_self": null,
       "border": null,
       "bottom": null,
       "display": null,
       "flex": null,
       "flex_flow": null,
       "grid_area": null,
       "grid_auto_columns": null,
       "grid_auto_flow": null,
       "grid_auto_rows": null,
       "grid_column": null,
       "grid_gap": null,
       "grid_row": null,
       "grid_template_areas": null,
       "grid_template_columns": null,
       "grid_template_rows": null,
       "height": null,
       "justify_content": null,
       "justify_items": null,
       "left": null,
       "margin": null,
       "max_height": null,
       "max_width": null,
       "min_height": null,
       "min_width": null,
       "object_fit": null,
       "object_position": null,
       "order": null,
       "overflow": null,
       "overflow_x": null,
       "overflow_y": null,
       "padding": null,
       "right": null,
       "top": null,
       "visibility": null,
       "width": null
      }
     },
     "39bd03b4777441119a5d63a9afd17c9f": {
      "model_module": "@jupyter-widgets/controls",
      "model_module_version": "1.5.0",
      "model_name": "DescriptionStyleModel",
      "state": {
       "_model_module": "@jupyter-widgets/controls",
       "_model_module_version": "1.5.0",
       "_model_name": "DescriptionStyleModel",
       "_view_count": null,
       "_view_module": "@jupyter-widgets/base",
       "_view_module_version": "1.2.0",
       "_view_name": "StyleView",
       "description_width": ""
      }
     },
     "3a06956ff2ad49da862398d2ddf07165": {
      "model_module": "@jupyter-widgets/base",
      "model_module_version": "1.2.0",
      "model_name": "LayoutModel",
      "state": {
       "_model_module": "@jupyter-widgets/base",
       "_model_module_version": "1.2.0",
       "_model_name": "LayoutModel",
       "_view_count": null,
       "_view_module": "@jupyter-widgets/base",
       "_view_module_version": "1.2.0",
       "_view_name": "LayoutView",
       "align_content": null,
       "align_items": null,
       "align_self": null,
       "border": null,
       "bottom": null,
       "display": null,
       "flex": null,
       "flex_flow": null,
       "grid_area": null,
       "grid_auto_columns": null,
       "grid_auto_flow": null,
       "grid_auto_rows": null,
       "grid_column": null,
       "grid_gap": null,
       "grid_row": null,
       "grid_template_areas": null,
       "grid_template_columns": null,
       "grid_template_rows": null,
       "height": null,
       "justify_content": null,
       "justify_items": null,
       "left": null,
       "margin": null,
       "max_height": null,
       "max_width": null,
       "min_height": null,
       "min_width": null,
       "object_fit": null,
       "object_position": null,
       "order": null,
       "overflow": null,
       "overflow_x": null,
       "overflow_y": null,
       "padding": null,
       "right": null,
       "top": null,
       "visibility": null,
       "width": null
      }
     },
     "3eae2f68a8d546f68aebbb0f383904db": {
      "model_module": "@jupyter-widgets/controls",
      "model_module_version": "1.5.0",
      "model_name": "DescriptionStyleModel",
      "state": {
       "_model_module": "@jupyter-widgets/controls",
       "_model_module_version": "1.5.0",
       "_model_name": "DescriptionStyleModel",
       "_view_count": null,
       "_view_module": "@jupyter-widgets/base",
       "_view_module_version": "1.2.0",
       "_view_name": "StyleView",
       "description_width": ""
      }
     },
     "42f250381c254ce98368852324ee79f0": {
      "model_module": "@jupyter-widgets/controls",
      "model_module_version": "1.5.0",
      "model_name": "ProgressStyleModel",
      "state": {
       "_model_module": "@jupyter-widgets/controls",
       "_model_module_version": "1.5.0",
       "_model_name": "ProgressStyleModel",
       "_view_count": null,
       "_view_module": "@jupyter-widgets/base",
       "_view_module_version": "1.2.0",
       "_view_name": "StyleView",
       "bar_color": null,
       "description_width": ""
      }
     },
     "4450f6eb35fe46b5a315b511d4130551": {
      "model_module": "@jupyter-widgets/base",
      "model_module_version": "1.2.0",
      "model_name": "LayoutModel",
      "state": {
       "_model_module": "@jupyter-widgets/base",
       "_model_module_version": "1.2.0",
       "_model_name": "LayoutModel",
       "_view_count": null,
       "_view_module": "@jupyter-widgets/base",
       "_view_module_version": "1.2.0",
       "_view_name": "LayoutView",
       "align_content": null,
       "align_items": null,
       "align_self": null,
       "border": null,
       "bottom": null,
       "display": null,
       "flex": null,
       "flex_flow": null,
       "grid_area": null,
       "grid_auto_columns": null,
       "grid_auto_flow": null,
       "grid_auto_rows": null,
       "grid_column": null,
       "grid_gap": null,
       "grid_row": null,
       "grid_template_areas": null,
       "grid_template_columns": null,
       "grid_template_rows": null,
       "height": null,
       "justify_content": null,
       "justify_items": null,
       "left": null,
       "margin": null,
       "max_height": null,
       "max_width": null,
       "min_height": null,
       "min_width": null,
       "object_fit": null,
       "object_position": null,
       "order": null,
       "overflow": null,
       "overflow_x": null,
       "overflow_y": null,
       "padding": null,
       "right": null,
       "top": null,
       "visibility": null,
       "width": null
      }
     },
     "446c9159f725486b86a8d3aa35957133": {
      "model_module": "@jupyter-widgets/base",
      "model_module_version": "1.2.0",
      "model_name": "LayoutModel",
      "state": {
       "_model_module": "@jupyter-widgets/base",
       "_model_module_version": "1.2.0",
       "_model_name": "LayoutModel",
       "_view_count": null,
       "_view_module": "@jupyter-widgets/base",
       "_view_module_version": "1.2.0",
       "_view_name": "LayoutView",
       "align_content": null,
       "align_items": null,
       "align_self": null,
       "border": null,
       "bottom": null,
       "display": null,
       "flex": null,
       "flex_flow": null,
       "grid_area": null,
       "grid_auto_columns": null,
       "grid_auto_flow": null,
       "grid_auto_rows": null,
       "grid_column": null,
       "grid_gap": null,
       "grid_row": null,
       "grid_template_areas": null,
       "grid_template_columns": null,
       "grid_template_rows": null,
       "height": null,
       "justify_content": null,
       "justify_items": null,
       "left": null,
       "margin": null,
       "max_height": null,
       "max_width": null,
       "min_height": null,
       "min_width": null,
       "object_fit": null,
       "object_position": null,
       "order": null,
       "overflow": null,
       "overflow_x": null,
       "overflow_y": null,
       "padding": null,
       "right": null,
       "top": null,
       "visibility": null,
       "width": null
      }
     },
     "4a10db6797f94638bba8897d99d2a40d": {
      "model_module": "@jupyter-widgets/controls",
      "model_module_version": "1.5.0",
      "model_name": "HBoxModel",
      "state": {
       "_dom_classes": [],
       "_model_module": "@jupyter-widgets/controls",
       "_model_module_version": "1.5.0",
       "_model_name": "HBoxModel",
       "_view_count": null,
       "_view_module": "@jupyter-widgets/controls",
       "_view_module_version": "1.5.0",
       "_view_name": "HBoxView",
       "box_style": "",
       "children": [
        "IPY_MODEL_f576edb6c88c4f15a1c30eb0c111616e",
        "IPY_MODEL_6f58c2e478c24829bcaf9530156c84b7",
        "IPY_MODEL_5c944fba08034965b10ace0fd21f5f8b"
       ],
       "layout": "IPY_MODEL_0209617f35f849a2bd4e67e8090d9601"
      }
     },
     "4a2a772bf3074604b79175df2f382c32": {
      "model_module": "@jupyter-widgets/base",
      "model_module_version": "1.2.0",
      "model_name": "LayoutModel",
      "state": {
       "_model_module": "@jupyter-widgets/base",
       "_model_module_version": "1.2.0",
       "_model_name": "LayoutModel",
       "_view_count": null,
       "_view_module": "@jupyter-widgets/base",
       "_view_module_version": "1.2.0",
       "_view_name": "LayoutView",
       "align_content": null,
       "align_items": null,
       "align_self": null,
       "border": null,
       "bottom": null,
       "display": null,
       "flex": null,
       "flex_flow": null,
       "grid_area": null,
       "grid_auto_columns": null,
       "grid_auto_flow": null,
       "grid_auto_rows": null,
       "grid_column": null,
       "grid_gap": null,
       "grid_row": null,
       "grid_template_areas": null,
       "grid_template_columns": null,
       "grid_template_rows": null,
       "height": null,
       "justify_content": null,
       "justify_items": null,
       "left": null,
       "margin": null,
       "max_height": null,
       "max_width": null,
       "min_height": null,
       "min_width": null,
       "object_fit": null,
       "object_position": null,
       "order": null,
       "overflow": null,
       "overflow_x": null,
       "overflow_y": null,
       "padding": null,
       "right": null,
       "top": null,
       "visibility": null,
       "width": null
      }
     },
     "4c554cc0799f466282d477182b49bf33": {
      "model_module": "@jupyter-widgets/controls",
      "model_module_version": "1.5.0",
      "model_name": "DescriptionStyleModel",
      "state": {
       "_model_module": "@jupyter-widgets/controls",
       "_model_module_version": "1.5.0",
       "_model_name": "DescriptionStyleModel",
       "_view_count": null,
       "_view_module": "@jupyter-widgets/base",
       "_view_module_version": "1.2.0",
       "_view_name": "StyleView",
       "description_width": ""
      }
     },
     "4f2c1e508422462e95ce06741181f827": {
      "model_module": "@jupyter-widgets/base",
      "model_module_version": "1.2.0",
      "model_name": "LayoutModel",
      "state": {
       "_model_module": "@jupyter-widgets/base",
       "_model_module_version": "1.2.0",
       "_model_name": "LayoutModel",
       "_view_count": null,
       "_view_module": "@jupyter-widgets/base",
       "_view_module_version": "1.2.0",
       "_view_name": "LayoutView",
       "align_content": null,
       "align_items": null,
       "align_self": null,
       "border": null,
       "bottom": null,
       "display": null,
       "flex": null,
       "flex_flow": null,
       "grid_area": null,
       "grid_auto_columns": null,
       "grid_auto_flow": null,
       "grid_auto_rows": null,
       "grid_column": null,
       "grid_gap": null,
       "grid_row": null,
       "grid_template_areas": null,
       "grid_template_columns": null,
       "grid_template_rows": null,
       "height": null,
       "justify_content": null,
       "justify_items": null,
       "left": null,
       "margin": null,
       "max_height": null,
       "max_width": null,
       "min_height": null,
       "min_width": null,
       "object_fit": null,
       "object_position": null,
       "order": null,
       "overflow": null,
       "overflow_x": null,
       "overflow_y": null,
       "padding": null,
       "right": null,
       "top": null,
       "visibility": null,
       "width": null
      }
     },
     "4f56eca19c3b4e2fbbd164c2b4c5ea27": {
      "model_module": "@jupyter-widgets/controls",
      "model_module_version": "1.5.0",
      "model_name": "ProgressStyleModel",
      "state": {
       "_model_module": "@jupyter-widgets/controls",
       "_model_module_version": "1.5.0",
       "_model_name": "ProgressStyleModel",
       "_view_count": null,
       "_view_module": "@jupyter-widgets/base",
       "_view_module_version": "1.2.0",
       "_view_name": "StyleView",
       "bar_color": null,
       "description_width": ""
      }
     },
     "5006d317fce54350b4a675c9d30383ae": {
      "model_module": "@jupyter-widgets/controls",
      "model_module_version": "1.5.0",
      "model_name": "ProgressStyleModel",
      "state": {
       "_model_module": "@jupyter-widgets/controls",
       "_model_module_version": "1.5.0",
       "_model_name": "ProgressStyleModel",
       "_view_count": null,
       "_view_module": "@jupyter-widgets/base",
       "_view_module_version": "1.2.0",
       "_view_name": "StyleView",
       "bar_color": null,
       "description_width": ""
      }
     },
     "522de9d9ea0742f39946194e5490ed3b": {
      "model_module": "@jupyter-widgets/base",
      "model_module_version": "1.2.0",
      "model_name": "LayoutModel",
      "state": {
       "_model_module": "@jupyter-widgets/base",
       "_model_module_version": "1.2.0",
       "_model_name": "LayoutModel",
       "_view_count": null,
       "_view_module": "@jupyter-widgets/base",
       "_view_module_version": "1.2.0",
       "_view_name": "LayoutView",
       "align_content": null,
       "align_items": null,
       "align_self": null,
       "border": null,
       "bottom": null,
       "display": null,
       "flex": null,
       "flex_flow": null,
       "grid_area": null,
       "grid_auto_columns": null,
       "grid_auto_flow": null,
       "grid_auto_rows": null,
       "grid_column": null,
       "grid_gap": null,
       "grid_row": null,
       "grid_template_areas": null,
       "grid_template_columns": null,
       "grid_template_rows": null,
       "height": null,
       "justify_content": null,
       "justify_items": null,
       "left": null,
       "margin": null,
       "max_height": null,
       "max_width": null,
       "min_height": null,
       "min_width": null,
       "object_fit": null,
       "object_position": null,
       "order": null,
       "overflow": null,
       "overflow_x": null,
       "overflow_y": null,
       "padding": null,
       "right": null,
       "top": null,
       "visibility": null,
       "width": null
      }
     },
     "53f0b2369d8c493ab24888b3fc5e7865": {
      "model_module": "@jupyter-widgets/controls",
      "model_module_version": "1.5.0",
      "model_name": "FloatProgressModel",
      "state": {
       "_dom_classes": [],
       "_model_module": "@jupyter-widgets/controls",
       "_model_module_version": "1.5.0",
       "_model_name": "FloatProgressModel",
       "_view_count": null,
       "_view_module": "@jupyter-widgets/controls",
       "_view_module_version": "1.5.0",
       "_view_name": "ProgressView",
       "bar_style": "success",
       "description": "",
       "description_tooltip": null,
       "layout": "IPY_MODEL_522de9d9ea0742f39946194e5490ed3b",
       "max": 6011.0,
       "min": 0.0,
       "orientation": "horizontal",
       "style": "IPY_MODEL_5c5069b4a4414ac684fc0bd6c66d896a",
       "value": 6011.0
      }
     },
     "55bbdc22dd4647dfb3c64ada61995370": {
      "model_module": "@jupyter-widgets/controls",
      "model_module_version": "1.5.0",
      "model_name": "ProgressStyleModel",
      "state": {
       "_model_module": "@jupyter-widgets/controls",
       "_model_module_version": "1.5.0",
       "_model_name": "ProgressStyleModel",
       "_view_count": null,
       "_view_module": "@jupyter-widgets/base",
       "_view_module_version": "1.2.0",
       "_view_name": "StyleView",
       "bar_color": null,
       "description_width": ""
      }
     },
     "580d091cc39f4d3d8e72f6855a5f53b6": {
      "model_module": "@jupyter-widgets/base",
      "model_module_version": "1.2.0",
      "model_name": "LayoutModel",
      "state": {
       "_model_module": "@jupyter-widgets/base",
       "_model_module_version": "1.2.0",
       "_model_name": "LayoutModel",
       "_view_count": null,
       "_view_module": "@jupyter-widgets/base",
       "_view_module_version": "1.2.0",
       "_view_name": "LayoutView",
       "align_content": null,
       "align_items": null,
       "align_self": null,
       "border": null,
       "bottom": null,
       "display": null,
       "flex": null,
       "flex_flow": null,
       "grid_area": null,
       "grid_auto_columns": null,
       "grid_auto_flow": null,
       "grid_auto_rows": null,
       "grid_column": null,
       "grid_gap": null,
       "grid_row": null,
       "grid_template_areas": null,
       "grid_template_columns": null,
       "grid_template_rows": null,
       "height": null,
       "justify_content": null,
       "justify_items": null,
       "left": null,
       "margin": null,
       "max_height": null,
       "max_width": null,
       "min_height": null,
       "min_width": null,
       "object_fit": null,
       "object_position": null,
       "order": null,
       "overflow": null,
       "overflow_x": null,
       "overflow_y": null,
       "padding": null,
       "right": null,
       "top": null,
       "visibility": null,
       "width": null
      }
     },
     "5c5069b4a4414ac684fc0bd6c66d896a": {
      "model_module": "@jupyter-widgets/controls",
      "model_module_version": "1.5.0",
      "model_name": "ProgressStyleModel",
      "state": {
       "_model_module": "@jupyter-widgets/controls",
       "_model_module_version": "1.5.0",
       "_model_name": "ProgressStyleModel",
       "_view_count": null,
       "_view_module": "@jupyter-widgets/base",
       "_view_module_version": "1.2.0",
       "_view_name": "StyleView",
       "bar_color": null,
       "description_width": ""
      }
     },
     "5c944fba08034965b10ace0fd21f5f8b": {
      "model_module": "@jupyter-widgets/controls",
      "model_module_version": "1.5.0",
      "model_name": "HTMLModel",
      "state": {
       "_dom_classes": [],
       "_model_module": "@jupyter-widgets/controls",
       "_model_module_version": "1.5.0",
       "_model_name": "HTMLModel",
       "_view_count": null,
       "_view_module": "@jupyter-widgets/controls",
       "_view_module_version": "1.5.0",
       "_view_name": "HTMLView",
       "description": "",
       "description_tooltip": null,
       "layout": "IPY_MODEL_397b18ed68914639a56e45f7f73f66d8",
       "placeholder": "​",
       "style": "IPY_MODEL_22519c29e4a74f828f7426832869d9f1",
       "value": " 0/0 [00:00&lt;?, ? examples/s]"
      }
     },
     "64b24f8dd2814775bd1f7711d34cc4fc": {
      "model_module": "@jupyter-widgets/controls",
      "model_module_version": "1.5.0",
      "model_name": "HBoxModel",
      "state": {
       "_dom_classes": [],
       "_model_module": "@jupyter-widgets/controls",
       "_model_module_version": "1.5.0",
       "_model_name": "HBoxModel",
       "_view_count": null,
       "_view_module": "@jupyter-widgets/controls",
       "_view_module_version": "1.5.0",
       "_view_name": "HBoxView",
       "box_style": "",
       "children": [
        "IPY_MODEL_1dba892214254696bb9d53abd8f5127a",
        "IPY_MODEL_53f0b2369d8c493ab24888b3fc5e7865",
        "IPY_MODEL_822e315a430d47218c90f068d811373d"
       ],
       "layout": "IPY_MODEL_e0c90aa78ada46b08122d8e8fe82dcdf"
      }
     },
     "680e7127ae3447f9b0b04af02b97f68f": {
      "model_module": "@jupyter-widgets/controls",
      "model_module_version": "1.5.0",
      "model_name": "DescriptionStyleModel",
      "state": {
       "_model_module": "@jupyter-widgets/controls",
       "_model_module_version": "1.5.0",
       "_model_name": "DescriptionStyleModel",
       "_view_count": null,
       "_view_module": "@jupyter-widgets/base",
       "_view_module_version": "1.2.0",
       "_view_name": "StyleView",
       "description_width": ""
      }
     },
     "6d75b3d98f3f462aa66ff99824f33d93": {
      "model_module": "@jupyter-widgets/base",
      "model_module_version": "1.2.0",
      "model_name": "LayoutModel",
      "state": {
       "_model_module": "@jupyter-widgets/base",
       "_model_module_version": "1.2.0",
       "_model_name": "LayoutModel",
       "_view_count": null,
       "_view_module": "@jupyter-widgets/base",
       "_view_module_version": "1.2.0",
       "_view_name": "LayoutView",
       "align_content": null,
       "align_items": null,
       "align_self": null,
       "border": null,
       "bottom": null,
       "display": null,
       "flex": null,
       "flex_flow": null,
       "grid_area": null,
       "grid_auto_columns": null,
       "grid_auto_flow": null,
       "grid_auto_rows": null,
       "grid_column": null,
       "grid_gap": null,
       "grid_row": null,
       "grid_template_areas": null,
       "grid_template_columns": null,
       "grid_template_rows": null,
       "height": null,
       "justify_content": null,
       "justify_items": null,
       "left": null,
       "margin": null,
       "max_height": null,
       "max_width": null,
       "min_height": null,
       "min_width": null,
       "object_fit": null,
       "object_position": null,
       "order": null,
       "overflow": null,
       "overflow_x": null,
       "overflow_y": null,
       "padding": null,
       "right": null,
       "top": null,
       "visibility": null,
       "width": null
      }
     },
     "6dab4e77c7404cb1a736e667e349de2c": {
      "model_module": "@jupyter-widgets/controls",
      "model_module_version": "1.5.0",
      "model_name": "HTMLModel",
      "state": {
       "_dom_classes": [],
       "_model_module": "@jupyter-widgets/controls",
       "_model_module_version": "1.5.0",
       "_model_name": "HTMLModel",
       "_view_count": null,
       "_view_module": "@jupyter-widgets/controls",
       "_view_module_version": "1.5.0",
       "_view_name": "HTMLView",
       "description": "",
       "description_tooltip": null,
       "layout": "IPY_MODEL_6d75b3d98f3f462aa66ff99824f33d93",
       "placeholder": "​",
       "style": "IPY_MODEL_3936d4dc08ab4eba9f9e3525600da5c0",
       "value": ""
      }
     },
     "6f58c2e478c24829bcaf9530156c84b7": {
      "model_module": "@jupyter-widgets/controls",
      "model_module_version": "1.5.0",
      "model_name": "FloatProgressModel",
      "state": {
       "_dom_classes": [],
       "_model_module": "@jupyter-widgets/controls",
       "_model_module_version": "1.5.0",
       "_model_name": "FloatProgressModel",
       "_view_count": null,
       "_view_module": "@jupyter-widgets/controls",
       "_view_module_version": "1.5.0",
       "_view_name": "ProgressView",
       "bar_style": "info",
       "description": "",
       "description_tooltip": null,
       "layout": "IPY_MODEL_ebc6365c8bcc42c39e64d89352b44726",
       "max": 1.0,
       "min": 0.0,
       "orientation": "horizontal",
       "style": "IPY_MODEL_701826e09d9b460c9eb7fa04714d8fdf",
       "value": 1.0
      }
     },
     "701826e09d9b460c9eb7fa04714d8fdf": {
      "model_module": "@jupyter-widgets/controls",
      "model_module_version": "1.5.0",
      "model_name": "ProgressStyleModel",
      "state": {
       "_model_module": "@jupyter-widgets/controls",
       "_model_module_version": "1.5.0",
       "_model_name": "ProgressStyleModel",
       "_view_count": null,
       "_view_module": "@jupyter-widgets/base",
       "_view_module_version": "1.2.0",
       "_view_name": "StyleView",
       "bar_color": null,
       "description_width": ""
      }
     },
     "701a6054b2844f42afe57d825cf7b77d": {
      "model_module": "@jupyter-widgets/base",
      "model_module_version": "1.2.0",
      "model_name": "LayoutModel",
      "state": {
       "_model_module": "@jupyter-widgets/base",
       "_model_module_version": "1.2.0",
       "_model_name": "LayoutModel",
       "_view_count": null,
       "_view_module": "@jupyter-widgets/base",
       "_view_module_version": "1.2.0",
       "_view_name": "LayoutView",
       "align_content": null,
       "align_items": null,
       "align_self": null,
       "border": null,
       "bottom": null,
       "display": null,
       "flex": null,
       "flex_flow": null,
       "grid_area": null,
       "grid_auto_columns": null,
       "grid_auto_flow": null,
       "grid_auto_rows": null,
       "grid_column": null,
       "grid_gap": null,
       "grid_row": null,
       "grid_template_areas": null,
       "grid_template_columns": null,
       "grid_template_rows": null,
       "height": null,
       "justify_content": null,
       "justify_items": null,
       "left": null,
       "margin": null,
       "max_height": null,
       "max_width": null,
       "min_height": null,
       "min_width": null,
       "object_fit": null,
       "object_position": null,
       "order": null,
       "overflow": null,
       "overflow_x": null,
       "overflow_y": null,
       "padding": null,
       "right": null,
       "top": null,
       "visibility": null,
       "width": null
      }
     },
     "72811abc028341da9fbc440bc24059ab": {
      "model_module": "@jupyter-widgets/base",
      "model_module_version": "1.2.0",
      "model_name": "LayoutModel",
      "state": {
       "_model_module": "@jupyter-widgets/base",
       "_model_module_version": "1.2.0",
       "_model_name": "LayoutModel",
       "_view_count": null,
       "_view_module": "@jupyter-widgets/base",
       "_view_module_version": "1.2.0",
       "_view_name": "LayoutView",
       "align_content": null,
       "align_items": null,
       "align_self": null,
       "border": null,
       "bottom": null,
       "display": null,
       "flex": null,
       "flex_flow": null,
       "grid_area": null,
       "grid_auto_columns": null,
       "grid_auto_flow": null,
       "grid_auto_rows": null,
       "grid_column": null,
       "grid_gap": null,
       "grid_row": null,
       "grid_template_areas": null,
       "grid_template_columns": null,
       "grid_template_rows": null,
       "height": null,
       "justify_content": null,
       "justify_items": null,
       "left": null,
       "margin": null,
       "max_height": null,
       "max_width": null,
       "min_height": null,
       "min_width": null,
       "object_fit": null,
       "object_position": null,
       "order": null,
       "overflow": null,
       "overflow_x": null,
       "overflow_y": null,
       "padding": null,
       "right": null,
       "top": null,
       "visibility": null,
       "width": null
      }
     },
     "7664f15661d143f99ec03dd7ee61ba70": {
      "model_module": "@jupyter-widgets/controls",
      "model_module_version": "1.5.0",
      "model_name": "DescriptionStyleModel",
      "state": {
       "_model_module": "@jupyter-widgets/controls",
       "_model_module_version": "1.5.0",
       "_model_name": "DescriptionStyleModel",
       "_view_count": null,
       "_view_module": "@jupyter-widgets/base",
       "_view_module_version": "1.2.0",
       "_view_name": "StyleView",
       "description_width": ""
      }
     },
     "769e7055b15145f99e2cc1dacacf53dd": {
      "model_module": "@jupyter-widgets/controls",
      "model_module_version": "1.5.0",
      "model_name": "HTMLModel",
      "state": {
       "_dom_classes": [],
       "_model_module": "@jupyter-widgets/controls",
       "_model_module_version": "1.5.0",
       "_model_name": "HTMLModel",
       "_view_count": null,
       "_view_module": "@jupyter-widgets/controls",
       "_view_module_version": "1.5.0",
       "_view_name": "HTMLView",
       "description": "",
       "description_tooltip": null,
       "layout": "IPY_MODEL_446c9159f725486b86a8d3aa35957133",
       "placeholder": "​",
       "style": "IPY_MODEL_0d2c21442e754b698c8c612e75fa1d00",
       "value": " 3.41k/3.41k [00:00&lt;00:00, 108kB/s]"
      }
     },
     "7d2359f7f17049c78da8a3ba4f42e475": {
      "model_module": "@jupyter-widgets/base",
      "model_module_version": "1.2.0",
      "model_name": "LayoutModel",
      "state": {
       "_model_module": "@jupyter-widgets/base",
       "_model_module_version": "1.2.0",
       "_model_name": "LayoutModel",
       "_view_count": null,
       "_view_module": "@jupyter-widgets/base",
       "_view_module_version": "1.2.0",
       "_view_name": "LayoutView",
       "align_content": null,
       "align_items": null,
       "align_self": null,
       "border": null,
       "bottom": null,
       "display": null,
       "flex": null,
       "flex_flow": null,
       "grid_area": null,
       "grid_auto_columns": null,
       "grid_auto_flow": null,
       "grid_auto_rows": null,
       "grid_column": null,
       "grid_gap": null,
       "grid_row": null,
       "grid_template_areas": null,
       "grid_template_columns": null,
       "grid_template_rows": null,
       "height": null,
       "justify_content": null,
       "justify_items": null,
       "left": null,
       "margin": null,
       "max_height": null,
       "max_width": null,
       "min_height": null,
       "min_width": null,
       "object_fit": null,
       "object_position": null,
       "order": null,
       "overflow": null,
       "overflow_x": null,
       "overflow_y": null,
       "padding": null,
       "right": null,
       "top": null,
       "visibility": null,
       "width": null
      }
     },
     "822e315a430d47218c90f068d811373d": {
      "model_module": "@jupyter-widgets/controls",
      "model_module_version": "1.5.0",
      "model_name": "HTMLModel",
      "state": {
       "_dom_classes": [],
       "_model_module": "@jupyter-widgets/controls",
       "_model_module_version": "1.5.0",
       "_model_name": "HTMLModel",
       "_view_count": null,
       "_view_module": "@jupyter-widgets/controls",
       "_view_module_version": "1.5.0",
       "_view_name": "HTMLView",
       "description": "",
       "description_tooltip": null,
       "layout": "IPY_MODEL_72811abc028341da9fbc440bc24059ab",
       "placeholder": "​",
       "style": "IPY_MODEL_4c554cc0799f466282d477182b49bf33",
       "value": " 6.01k/6.01k [00:00&lt;00:00, 208kB/s]"
      }
     },
     "837a2c1023aa4732baad6794b0e14444": {
      "model_module": "@jupyter-widgets/controls",
      "model_module_version": "1.5.0",
      "model_name": "DescriptionStyleModel",
      "state": {
       "_model_module": "@jupyter-widgets/controls",
       "_model_module_version": "1.5.0",
       "_model_name": "DescriptionStyleModel",
       "_view_count": null,
       "_view_module": "@jupyter-widgets/base",
       "_view_module_version": "1.2.0",
       "_view_name": "StyleView",
       "description_width": ""
      }
     },
     "87588a7566d947a19d90c93ac745f2c2": {
      "model_module": "@jupyter-widgets/controls",
      "model_module_version": "1.5.0",
      "model_name": "HTMLModel",
      "state": {
       "_dom_classes": [],
       "_model_module": "@jupyter-widgets/controls",
       "_model_module_version": "1.5.0",
       "_model_name": "HTMLModel",
       "_view_count": null,
       "_view_module": "@jupyter-widgets/controls",
       "_view_module_version": "1.5.0",
       "_view_name": "HTMLView",
       "description": "",
       "description_tooltip": null,
       "layout": "IPY_MODEL_3a06956ff2ad49da862398d2ddf07165",
       "placeholder": "​",
       "style": "IPY_MODEL_a07939b4a1a543b8965fd9a49ca7d9b2",
       "value": " 0/0 [00:00&lt;?, ? examples/s]"
      }
     },
     "8b6aa4a590f8440a9d316473530a736f": {
      "model_module": "@jupyter-widgets/controls",
      "model_module_version": "1.5.0",
      "model_name": "HBoxModel",
      "state": {
       "_dom_classes": [],
       "_model_module": "@jupyter-widgets/controls",
       "_model_module_version": "1.5.0",
       "_model_name": "HBoxModel",
       "_view_count": null,
       "_view_module": "@jupyter-widgets/controls",
       "_view_module_version": "1.5.0",
       "_view_name": "HBoxView",
       "box_style": "",
       "children": [
        "IPY_MODEL_6dab4e77c7404cb1a736e667e349de2c",
        "IPY_MODEL_d32dadd4e4874ad6885ea2e297a02dcc",
        "IPY_MODEL_87588a7566d947a19d90c93ac745f2c2"
       ],
       "layout": "IPY_MODEL_957ea9c80e6c429198176c56396f8cef"
      }
     },
     "8e61d5c1dbed4175ac62a6c8d548a965": {
      "model_module": "@jupyter-widgets/controls",
      "model_module_version": "1.5.0",
      "model_name": "DescriptionStyleModel",
      "state": {
       "_model_module": "@jupyter-widgets/controls",
       "_model_module_version": "1.5.0",
       "_model_name": "DescriptionStyleModel",
       "_view_count": null,
       "_view_module": "@jupyter-widgets/base",
       "_view_module_version": "1.2.0",
       "_view_name": "StyleView",
       "description_width": ""
      }
     },
     "923cca8023fc43a48826dc5baf58c4f0": {
      "model_module": "@jupyter-widgets/controls",
      "model_module_version": "1.5.0",
      "model_name": "DescriptionStyleModel",
      "state": {
       "_model_module": "@jupyter-widgets/controls",
       "_model_module_version": "1.5.0",
       "_model_name": "DescriptionStyleModel",
       "_view_count": null,
       "_view_module": "@jupyter-widgets/base",
       "_view_module_version": "1.2.0",
       "_view_name": "StyleView",
       "description_width": ""
      }
     },
     "94f83b6b84b24c18b8ba7f1a7e689d40": {
      "model_module": "@jupyter-widgets/controls",
      "model_module_version": "1.5.0",
      "model_name": "FloatProgressModel",
      "state": {
       "_dom_classes": [],
       "_model_module": "@jupyter-widgets/controls",
       "_model_module_version": "1.5.0",
       "_model_name": "FloatProgressModel",
       "_view_count": null,
       "_view_module": "@jupyter-widgets/controls",
       "_view_module_version": "1.5.0",
       "_view_name": "ProgressView",
       "bar_style": "info",
       "description": "",
       "description_tooltip": null,
       "layout": "IPY_MODEL_f2323708929f46cc9f8acae3cf4fc6e5",
       "max": 1.0,
       "min": 0.0,
       "orientation": "horizontal",
       "style": "IPY_MODEL_55bbdc22dd4647dfb3c64ada61995370",
       "value": 1.0
      }
     },
     "957ea9c80e6c429198176c56396f8cef": {
      "model_module": "@jupyter-widgets/base",
      "model_module_version": "1.2.0",
      "model_name": "LayoutModel",
      "state": {
       "_model_module": "@jupyter-widgets/base",
       "_model_module_version": "1.2.0",
       "_model_name": "LayoutModel",
       "_view_count": null,
       "_view_module": "@jupyter-widgets/base",
       "_view_module_version": "1.2.0",
       "_view_name": "LayoutView",
       "align_content": null,
       "align_items": null,
       "align_self": null,
       "border": null,
       "bottom": null,
       "display": null,
       "flex": null,
       "flex_flow": null,
       "grid_area": null,
       "grid_auto_columns": null,
       "grid_auto_flow": null,
       "grid_auto_rows": null,
       "grid_column": null,
       "grid_gap": null,
       "grid_row": null,
       "grid_template_areas": null,
       "grid_template_columns": null,
       "grid_template_rows": null,
       "height": null,
       "justify_content": null,
       "justify_items": null,
       "left": null,
       "margin": null,
       "max_height": null,
       "max_width": null,
       "min_height": null,
       "min_width": null,
       "object_fit": null,
       "object_position": null,
       "order": null,
       "overflow": null,
       "overflow_x": null,
       "overflow_y": null,
       "padding": null,
       "right": null,
       "top": null,
       "visibility": null,
       "width": null
      }
     },
     "95be131390144273af85d41ee7bbae8c": {
      "model_module": "@jupyter-widgets/controls",
      "model_module_version": "1.5.0",
      "model_name": "HBoxModel",
      "state": {
       "_dom_classes": [],
       "_model_module": "@jupyter-widgets/controls",
       "_model_module_version": "1.5.0",
       "_model_name": "HBoxModel",
       "_view_count": null,
       "_view_module": "@jupyter-widgets/controls",
       "_view_module_version": "1.5.0",
       "_view_name": "HBoxView",
       "box_style": "",
       "children": [
        "IPY_MODEL_9da8d249eb754b31b2d782a5591c8aa7",
        "IPY_MODEL_aedeabfbccc248ee9310a8ee3c3fe9a2",
        "IPY_MODEL_11be7fb0647840b3b020b576010e45f5"
       ],
       "layout": "IPY_MODEL_1a4dacc5cc654e5ea630bbf55cab72fa"
      }
     },
     "97a8b0d7cff64dcbaaad8de2d84eea8c": {
      "model_module": "@jupyter-widgets/controls",
      "model_module_version": "1.5.0",
      "model_name": "HBoxModel",
      "state": {
       "_dom_classes": [],
       "_model_module": "@jupyter-widgets/controls",
       "_model_module_version": "1.5.0",
       "_model_name": "HBoxModel",
       "_view_count": null,
       "_view_module": "@jupyter-widgets/controls",
       "_view_module_version": "1.5.0",
       "_view_name": "HBoxView",
       "box_style": "",
       "children": [
        "IPY_MODEL_bdbf6056ae444789bec9b61426470e41",
        "IPY_MODEL_c42f8aaba3e44c4688b476aaa0e1bbde",
        "IPY_MODEL_16f05b8b7c314fe0ad93e750a26824f6"
       ],
       "layout": "IPY_MODEL_1c864f8ba6334ac1b1ab6eee378d0782"
      }
     },
     "9da8d249eb754b31b2d782a5591c8aa7": {
      "model_module": "@jupyter-widgets/controls",
      "model_module_version": "1.5.0",
      "model_name": "HTMLModel",
      "state": {
       "_dom_classes": [],
       "_model_module": "@jupyter-widgets/controls",
       "_model_module_version": "1.5.0",
       "_model_name": "HTMLModel",
       "_view_count": null,
       "_view_module": "@jupyter-widgets/controls",
       "_view_module_version": "1.5.0",
       "_view_name": "HTMLView",
       "description": "",
       "description_tooltip": null,
       "layout": "IPY_MODEL_4a2a772bf3074604b79175df2f382c32",
       "placeholder": "​",
       "style": "IPY_MODEL_680e7127ae3447f9b0b04af02b97f68f",
       "value": "Downloading: 100%"
      }
     },
     "9eb47563b4774a9a9e8b1c1db0b6aa1f": {
      "model_module": "@jupyter-widgets/controls",
      "model_module_version": "1.5.0",
      "model_name": "DescriptionStyleModel",
      "state": {
       "_model_module": "@jupyter-widgets/controls",
       "_model_module_version": "1.5.0",
       "_model_name": "DescriptionStyleModel",
       "_view_count": null,
       "_view_module": "@jupyter-widgets/base",
       "_view_module_version": "1.2.0",
       "_view_name": "StyleView",
       "description_width": ""
      }
     },
     "9ee5a3dff4724b07a5ca00461b205f24": {
      "model_module": "@jupyter-widgets/base",
      "model_module_version": "1.2.0",
      "model_name": "LayoutModel",
      "state": {
       "_model_module": "@jupyter-widgets/base",
       "_model_module_version": "1.2.0",
       "_model_name": "LayoutModel",
       "_view_count": null,
       "_view_module": "@jupyter-widgets/base",
       "_view_module_version": "1.2.0",
       "_view_name": "LayoutView",
       "align_content": null,
       "align_items": null,
       "align_self": null,
       "border": null,
       "bottom": null,
       "display": null,
       "flex": null,
       "flex_flow": null,
       "grid_area": null,
       "grid_auto_columns": null,
       "grid_auto_flow": null,
       "grid_auto_rows": null,
       "grid_column": null,
       "grid_gap": null,
       "grid_row": null,
       "grid_template_areas": null,
       "grid_template_columns": null,
       "grid_template_rows": null,
       "height": null,
       "justify_content": null,
       "justify_items": null,
       "left": null,
       "margin": null,
       "max_height": null,
       "max_width": null,
       "min_height": null,
       "min_width": null,
       "object_fit": null,
       "object_position": null,
       "order": null,
       "overflow": null,
       "overflow_x": null,
       "overflow_y": null,
       "padding": null,
       "right": null,
       "top": null,
       "visibility": null,
       "width": null
      }
     },
     "a07939b4a1a543b8965fd9a49ca7d9b2": {
      "model_module": "@jupyter-widgets/controls",
      "model_module_version": "1.5.0",
      "model_name": "DescriptionStyleModel",
      "state": {
       "_model_module": "@jupyter-widgets/controls",
       "_model_module_version": "1.5.0",
       "_model_name": "DescriptionStyleModel",
       "_view_count": null,
       "_view_module": "@jupyter-widgets/base",
       "_view_module_version": "1.2.0",
       "_view_name": "StyleView",
       "description_width": ""
      }
     },
     "a56f758ae5654b87a9d5dc570516889c": {
      "model_module": "@jupyter-widgets/base",
      "model_module_version": "1.2.0",
      "model_name": "LayoutModel",
      "state": {
       "_model_module": "@jupyter-widgets/base",
       "_model_module_version": "1.2.0",
       "_model_name": "LayoutModel",
       "_view_count": null,
       "_view_module": "@jupyter-widgets/base",
       "_view_module_version": "1.2.0",
       "_view_name": "LayoutView",
       "align_content": null,
       "align_items": null,
       "align_self": null,
       "border": null,
       "bottom": null,
       "display": null,
       "flex": null,
       "flex_flow": null,
       "grid_area": null,
       "grid_auto_columns": null,
       "grid_auto_flow": null,
       "grid_auto_rows": null,
       "grid_column": null,
       "grid_gap": null,
       "grid_row": null,
       "grid_template_areas": null,
       "grid_template_columns": null,
       "grid_template_rows": null,
       "height": null,
       "justify_content": null,
       "justify_items": null,
       "left": null,
       "margin": null,
       "max_height": null,
       "max_width": null,
       "min_height": null,
       "min_width": null,
       "object_fit": null,
       "object_position": null,
       "order": null,
       "overflow": null,
       "overflow_x": null,
       "overflow_y": null,
       "padding": null,
       "right": null,
       "top": null,
       "visibility": null,
       "width": null
      }
     },
     "aedeabfbccc248ee9310a8ee3c3fe9a2": {
      "model_module": "@jupyter-widgets/controls",
      "model_module_version": "1.5.0",
      "model_name": "FloatProgressModel",
      "state": {
       "_dom_classes": [],
       "_model_module": "@jupyter-widgets/controls",
       "_model_module_version": "1.5.0",
       "_model_name": "FloatProgressModel",
       "_view_count": null,
       "_view_module": "@jupyter-widgets/controls",
       "_view_module_version": "1.5.0",
       "_view_name": "ProgressView",
       "bar_style": "success",
       "description": "",
       "description_tooltip": null,
       "layout": "IPY_MODEL_580d091cc39f4d3d8e72f6855a5f53b6",
       "max": 206760.0,
       "min": 0.0,
       "orientation": "horizontal",
       "style": "IPY_MODEL_42f250381c254ce98368852324ee79f0",
       "value": 206760.0
      }
     },
     "b2916c560c114e9cace981478598e0e9": {
      "model_module": "@jupyter-widgets/controls",
      "model_module_version": "1.5.0",
      "model_name": "HTMLModel",
      "state": {
       "_dom_classes": [],
       "_model_module": "@jupyter-widgets/controls",
       "_model_module_version": "1.5.0",
       "_model_name": "HTMLModel",
       "_view_count": null,
       "_view_module": "@jupyter-widgets/controls",
       "_view_module_version": "1.5.0",
       "_view_name": "HTMLView",
       "description": "",
       "description_tooltip": null,
       "layout": "IPY_MODEL_c9ffbe51860f440aa443dd44ea2c7b8c",
       "placeholder": "​",
       "style": "IPY_MODEL_37108f3ff92a44c58b75530e701aae23",
       "value": "Downloading: 100%"
      }
     },
     "b35f9ff08982416e9266b2045fc79ab8": {
      "model_module": "@jupyter-widgets/controls",
      "model_module_version": "1.5.0",
      "model_name": "HBoxModel",
      "state": {
       "_dom_classes": [],
       "_model_module": "@jupyter-widgets/controls",
       "_model_module_version": "1.5.0",
       "_model_name": "HBoxModel",
       "_view_count": null,
       "_view_module": "@jupyter-widgets/controls",
       "_view_module_version": "1.5.0",
       "_view_name": "HBoxView",
       "box_style": "",
       "children": [
        "IPY_MODEL_c283aa37ebd945a08ec9f9681b9a0b1c",
        "IPY_MODEL_94f83b6b84b24c18b8ba7f1a7e689d40",
        "IPY_MODEL_1e17807e2a7e4ea7a639bbfe91719d0c"
       ],
       "layout": "IPY_MODEL_9ee5a3dff4724b07a5ca00461b205f24"
      }
     },
     "bdbf6056ae444789bec9b61426470e41": {
      "model_module": "@jupyter-widgets/controls",
      "model_module_version": "1.5.0",
      "model_name": "HTMLModel",
      "state": {
       "_dom_classes": [],
       "_model_module": "@jupyter-widgets/controls",
       "_model_module_version": "1.5.0",
       "_model_name": "HTMLModel",
       "_view_count": null,
       "_view_module": "@jupyter-widgets/controls",
       "_view_module_version": "1.5.0",
       "_view_name": "HTMLView",
       "description": "",
       "description_tooltip": null,
       "layout": "IPY_MODEL_fb607b6bfe4842aa801fd055c5fe7dd1",
       "placeholder": "​",
       "style": "IPY_MODEL_7664f15661d143f99ec03dd7ee61ba70",
       "value": "Downloading: 100%"
      }
     },
     "c0af05efcef94c94850d4e286329baa2": {
      "model_module": "@jupyter-widgets/base",
      "model_module_version": "1.2.0",
      "model_name": "LayoutModel",
      "state": {
       "_model_module": "@jupyter-widgets/base",
       "_model_module_version": "1.2.0",
       "_model_name": "LayoutModel",
       "_view_count": null,
       "_view_module": "@jupyter-widgets/base",
       "_view_module_version": "1.2.0",
       "_view_name": "LayoutView",
       "align_content": null,
       "align_items": null,
       "align_self": null,
       "border": null,
       "bottom": null,
       "display": null,
       "flex": null,
       "flex_flow": null,
       "grid_area": null,
       "grid_auto_columns": null,
       "grid_auto_flow": null,
       "grid_auto_rows": null,
       "grid_column": null,
       "grid_gap": null,
       "grid_row": null,
       "grid_template_areas": null,
       "grid_template_columns": null,
       "grid_template_rows": null,
       "height": null,
       "justify_content": null,
       "justify_items": null,
       "left": null,
       "margin": null,
       "max_height": null,
       "max_width": null,
       "min_height": null,
       "min_width": null,
       "object_fit": null,
       "object_position": null,
       "order": null,
       "overflow": null,
       "overflow_x": null,
       "overflow_y": null,
       "padding": null,
       "right": null,
       "top": null,
       "visibility": null,
       "width": null
      }
     },
     "c16734e2066f48c4be191dabf43f949a": {
      "model_module": "@jupyter-widgets/controls",
      "model_module_version": "1.5.0",
      "model_name": "DescriptionStyleModel",
      "state": {
       "_model_module": "@jupyter-widgets/controls",
       "_model_module_version": "1.5.0",
       "_model_name": "DescriptionStyleModel",
       "_view_count": null,
       "_view_module": "@jupyter-widgets/base",
       "_view_module_version": "1.2.0",
       "_view_name": "StyleView",
       "description_width": ""
      }
     },
     "c283aa37ebd945a08ec9f9681b9a0b1c": {
      "model_module": "@jupyter-widgets/controls",
      "model_module_version": "1.5.0",
      "model_name": "HTMLModel",
      "state": {
       "_dom_classes": [],
       "_model_module": "@jupyter-widgets/controls",
       "_model_module_version": "1.5.0",
       "_model_name": "HTMLModel",
       "_view_count": null,
       "_view_module": "@jupyter-widgets/controls",
       "_view_module_version": "1.5.0",
       "_view_name": "HTMLView",
       "description": "",
       "description_tooltip": null,
       "layout": "IPY_MODEL_d6a2cd13de054906b8f69dd3627625f0",
       "placeholder": "​",
       "style": "IPY_MODEL_3eae2f68a8d546f68aebbb0f383904db",
       "value": ""
      }
     },
     "c42f8aaba3e44c4688b476aaa0e1bbde": {
      "model_module": "@jupyter-widgets/controls",
      "model_module_version": "1.5.0",
      "model_name": "FloatProgressModel",
      "state": {
       "_dom_classes": [],
       "_model_module": "@jupyter-widgets/controls",
       "_model_module_version": "1.5.0",
       "_model_name": "FloatProgressModel",
       "_view_count": null,
       "_view_module": "@jupyter-widgets/controls",
       "_view_module_version": "1.5.0",
       "_view_name": "ProgressView",
       "bar_style": "success",
       "description": "",
       "description_tooltip": null,
       "layout": "IPY_MODEL_2dce3cbd8d6a42ca996cddd08e3bc072",
       "max": 204240.0,
       "min": 0.0,
       "orientation": "horizontal",
       "style": "IPY_MODEL_4f56eca19c3b4e2fbbd164c2b4c5ea27",
       "value": 204240.0
      }
     },
     "c44ae0566d7e4980aaf6832399feac04": {
      "model_module": "@jupyter-widgets/base",
      "model_module_version": "1.2.0",
      "model_name": "LayoutModel",
      "state": {
       "_model_module": "@jupyter-widgets/base",
       "_model_module_version": "1.2.0",
       "_model_name": "LayoutModel",
       "_view_count": null,
       "_view_module": "@jupyter-widgets/base",
       "_view_module_version": "1.2.0",
       "_view_name": "LayoutView",
       "align_content": null,
       "align_items": null,
       "align_self": null,
       "border": null,
       "bottom": null,
       "display": null,
       "flex": null,
       "flex_flow": null,
       "grid_area": null,
       "grid_auto_columns": null,
       "grid_auto_flow": null,
       "grid_auto_rows": null,
       "grid_column": null,
       "grid_gap": null,
       "grid_row": null,
       "grid_template_areas": null,
       "grid_template_columns": null,
       "grid_template_rows": null,
       "height": null,
       "justify_content": null,
       "justify_items": null,
       "left": null,
       "margin": null,
       "max_height": null,
       "max_width": null,
       "min_height": null,
       "min_width": null,
       "object_fit": null,
       "object_position": null,
       "order": null,
       "overflow": null,
       "overflow_x": null,
       "overflow_y": null,
       "padding": null,
       "right": null,
       "top": null,
       "visibility": null,
       "width": null
      }
     },
     "c5c4e535abec4d8c83a032fac9a992ce": {
      "model_module": "@jupyter-widgets/base",
      "model_module_version": "1.2.0",
      "model_name": "LayoutModel",
      "state": {
       "_model_module": "@jupyter-widgets/base",
       "_model_module_version": "1.2.0",
       "_model_name": "LayoutModel",
       "_view_count": null,
       "_view_module": "@jupyter-widgets/base",
       "_view_module_version": "1.2.0",
       "_view_name": "LayoutView",
       "align_content": null,
       "align_items": null,
       "align_self": null,
       "border": null,
       "bottom": null,
       "display": null,
       "flex": null,
       "flex_flow": null,
       "grid_area": null,
       "grid_auto_columns": null,
       "grid_auto_flow": null,
       "grid_auto_rows": null,
       "grid_column": null,
       "grid_gap": null,
       "grid_row": null,
       "grid_template_areas": null,
       "grid_template_columns": null,
       "grid_template_rows": null,
       "height": null,
       "justify_content": null,
       "justify_items": null,
       "left": null,
       "margin": null,
       "max_height": null,
       "max_width": null,
       "min_height": null,
       "min_width": null,
       "object_fit": null,
       "object_position": null,
       "order": null,
       "overflow": null,
       "overflow_x": null,
       "overflow_y": null,
       "padding": null,
       "right": null,
       "top": null,
       "visibility": null,
       "width": null
      }
     },
     "c96c312439414fe6bc068b0b7d462428": {
      "model_module": "@jupyter-widgets/base",
      "model_module_version": "1.2.0",
      "model_name": "LayoutModel",
      "state": {
       "_model_module": "@jupyter-widgets/base",
       "_model_module_version": "1.2.0",
       "_model_name": "LayoutModel",
       "_view_count": null,
       "_view_module": "@jupyter-widgets/base",
       "_view_module_version": "1.2.0",
       "_view_name": "LayoutView",
       "align_content": null,
       "align_items": null,
       "align_self": null,
       "border": null,
       "bottom": null,
       "display": null,
       "flex": null,
       "flex_flow": null,
       "grid_area": null,
       "grid_auto_columns": null,
       "grid_auto_flow": null,
       "grid_auto_rows": null,
       "grid_column": null,
       "grid_gap": null,
       "grid_row": null,
       "grid_template_areas": null,
       "grid_template_columns": null,
       "grid_template_rows": null,
       "height": null,
       "justify_content": null,
       "justify_items": null,
       "left": null,
       "margin": null,
       "max_height": null,
       "max_width": null,
       "min_height": null,
       "min_width": null,
       "object_fit": null,
       "object_position": null,
       "order": null,
       "overflow": null,
       "overflow_x": null,
       "overflow_y": null,
       "padding": null,
       "right": null,
       "top": null,
       "visibility": null,
       "width": null
      }
     },
     "c9ffbe51860f440aa443dd44ea2c7b8c": {
      "model_module": "@jupyter-widgets/base",
      "model_module_version": "1.2.0",
      "model_name": "LayoutModel",
      "state": {
       "_model_module": "@jupyter-widgets/base",
       "_model_module_version": "1.2.0",
       "_model_name": "LayoutModel",
       "_view_count": null,
       "_view_module": "@jupyter-widgets/base",
       "_view_module_version": "1.2.0",
       "_view_name": "LayoutView",
       "align_content": null,
       "align_items": null,
       "align_self": null,
       "border": null,
       "bottom": null,
       "display": null,
       "flex": null,
       "flex_flow": null,
       "grid_area": null,
       "grid_auto_columns": null,
       "grid_auto_flow": null,
       "grid_auto_rows": null,
       "grid_column": null,
       "grid_gap": null,
       "grid_row": null,
       "grid_template_areas": null,
       "grid_template_columns": null,
       "grid_template_rows": null,
       "height": null,
       "justify_content": null,
       "justify_items": null,
       "left": null,
       "margin": null,
       "max_height": null,
       "max_width": null,
       "min_height": null,
       "min_width": null,
       "object_fit": null,
       "object_position": null,
       "order": null,
       "overflow": null,
       "overflow_x": null,
       "overflow_y": null,
       "padding": null,
       "right": null,
       "top": null,
       "visibility": null,
       "width": null
      }
     },
     "cc0ed26a1ab04002a15d1e27259cb52a": {
      "model_module": "@jupyter-widgets/controls",
      "model_module_version": "1.5.0",
      "model_name": "HBoxModel",
      "state": {
       "_dom_classes": [],
       "_model_module": "@jupyter-widgets/controls",
       "_model_module_version": "1.5.0",
       "_model_name": "HBoxModel",
       "_view_count": null,
       "_view_module": "@jupyter-widgets/controls",
       "_view_module_version": "1.5.0",
       "_view_name": "HBoxView",
       "box_style": "",
       "children": [
        "IPY_MODEL_b2916c560c114e9cace981478598e0e9",
        "IPY_MODEL_28b0af0a8cfe42bcab3f2cb08d7ffbf4",
        "IPY_MODEL_f88eeeb1b5e44e688e6e94cb0a43daef"
       ],
       "layout": "IPY_MODEL_c0af05efcef94c94850d4e286329baa2"
      }
     },
     "d0dca5a9da7f40eaa2560267bc265a39": {
      "model_module": "@jupyter-widgets/controls",
      "model_module_version": "1.5.0",
      "model_name": "DescriptionStyleModel",
      "state": {
       "_model_module": "@jupyter-widgets/controls",
       "_model_module_version": "1.5.0",
       "_model_name": "DescriptionStyleModel",
       "_view_count": null,
       "_view_module": "@jupyter-widgets/base",
       "_view_module_version": "1.2.0",
       "_view_name": "StyleView",
       "description_width": ""
      }
     },
     "d130730595874fdb95243151471e9f8b": {
      "model_module": "@jupyter-widgets/base",
      "model_module_version": "1.2.0",
      "model_name": "LayoutModel",
      "state": {
       "_model_module": "@jupyter-widgets/base",
       "_model_module_version": "1.2.0",
       "_model_name": "LayoutModel",
       "_view_count": null,
       "_view_module": "@jupyter-widgets/base",
       "_view_module_version": "1.2.0",
       "_view_name": "LayoutView",
       "align_content": null,
       "align_items": null,
       "align_self": null,
       "border": null,
       "bottom": null,
       "display": null,
       "flex": null,
       "flex_flow": null,
       "grid_area": null,
       "grid_auto_columns": null,
       "grid_auto_flow": null,
       "grid_auto_rows": null,
       "grid_column": null,
       "grid_gap": null,
       "grid_row": null,
       "grid_template_areas": null,
       "grid_template_columns": null,
       "grid_template_rows": null,
       "height": null,
       "justify_content": null,
       "justify_items": null,
       "left": null,
       "margin": null,
       "max_height": null,
       "max_width": null,
       "min_height": null,
       "min_width": null,
       "object_fit": null,
       "object_position": null,
       "order": null,
       "overflow": null,
       "overflow_x": null,
       "overflow_y": null,
       "padding": null,
       "right": null,
       "top": null,
       "visibility": null,
       "width": "20px"
      }
     },
     "d32dadd4e4874ad6885ea2e297a02dcc": {
      "model_module": "@jupyter-widgets/controls",
      "model_module_version": "1.5.0",
      "model_name": "FloatProgressModel",
      "state": {
       "_dom_classes": [],
       "_model_module": "@jupyter-widgets/controls",
       "_model_module_version": "1.5.0",
       "_model_name": "FloatProgressModel",
       "_view_count": null,
       "_view_module": "@jupyter-widgets/controls",
       "_view_module_version": "1.5.0",
       "_view_name": "ProgressView",
       "bar_style": "info",
       "description": "",
       "description_tooltip": null,
       "layout": "IPY_MODEL_d130730595874fdb95243151471e9f8b",
       "max": 1.0,
       "min": 0.0,
       "orientation": "horizontal",
       "style": "IPY_MODEL_0333769e2af54e819b3925c620b14a91",
       "value": 1.0
      }
     },
     "d6a2cd13de054906b8f69dd3627625f0": {
      "model_module": "@jupyter-widgets/base",
      "model_module_version": "1.2.0",
      "model_name": "LayoutModel",
      "state": {
       "_model_module": "@jupyter-widgets/base",
       "_model_module_version": "1.2.0",
       "_model_name": "LayoutModel",
       "_view_count": null,
       "_view_module": "@jupyter-widgets/base",
       "_view_module_version": "1.2.0",
       "_view_name": "LayoutView",
       "align_content": null,
       "align_items": null,
       "align_self": null,
       "border": null,
       "bottom": null,
       "display": null,
       "flex": null,
       "flex_flow": null,
       "grid_area": null,
       "grid_auto_columns": null,
       "grid_auto_flow": null,
       "grid_auto_rows": null,
       "grid_column": null,
       "grid_gap": null,
       "grid_row": null,
       "grid_template_areas": null,
       "grid_template_columns": null,
       "grid_template_rows": null,
       "height": null,
       "justify_content": null,
       "justify_items": null,
       "left": null,
       "margin": null,
       "max_height": null,
       "max_width": null,
       "min_height": null,
       "min_width": null,
       "object_fit": null,
       "object_position": null,
       "order": null,
       "overflow": null,
       "overflow_x": null,
       "overflow_y": null,
       "padding": null,
       "right": null,
       "top": null,
       "visibility": null,
       "width": null
      }
     },
     "e0c90aa78ada46b08122d8e8fe82dcdf": {
      "model_module": "@jupyter-widgets/base",
      "model_module_version": "1.2.0",
      "model_name": "LayoutModel",
      "state": {
       "_model_module": "@jupyter-widgets/base",
       "_model_module_version": "1.2.0",
       "_model_name": "LayoutModel",
       "_view_count": null,
       "_view_module": "@jupyter-widgets/base",
       "_view_module_version": "1.2.0",
       "_view_name": "LayoutView",
       "align_content": null,
       "align_items": null,
       "align_self": null,
       "border": null,
       "bottom": null,
       "display": null,
       "flex": null,
       "flex_flow": null,
       "grid_area": null,
       "grid_auto_columns": null,
       "grid_auto_flow": null,
       "grid_auto_rows": null,
       "grid_column": null,
       "grid_gap": null,
       "grid_row": null,
       "grid_template_areas": null,
       "grid_template_columns": null,
       "grid_template_rows": null,
       "height": null,
       "justify_content": null,
       "justify_items": null,
       "left": null,
       "margin": null,
       "max_height": null,
       "max_width": null,
       "min_height": null,
       "min_width": null,
       "object_fit": null,
       "object_position": null,
       "order": null,
       "overflow": null,
       "overflow_x": null,
       "overflow_y": null,
       "padding": null,
       "right": null,
       "top": null,
       "visibility": null,
       "width": null
      }
     },
     "ebc6365c8bcc42c39e64d89352b44726": {
      "model_module": "@jupyter-widgets/base",
      "model_module_version": "1.2.0",
      "model_name": "LayoutModel",
      "state": {
       "_model_module": "@jupyter-widgets/base",
       "_model_module_version": "1.2.0",
       "_model_name": "LayoutModel",
       "_view_count": null,
       "_view_module": "@jupyter-widgets/base",
       "_view_module_version": "1.2.0",
       "_view_name": "LayoutView",
       "align_content": null,
       "align_items": null,
       "align_self": null,
       "border": null,
       "bottom": null,
       "display": null,
       "flex": null,
       "flex_flow": null,
       "grid_area": null,
       "grid_auto_columns": null,
       "grid_auto_flow": null,
       "grid_auto_rows": null,
       "grid_column": null,
       "grid_gap": null,
       "grid_row": null,
       "grid_template_areas": null,
       "grid_template_columns": null,
       "grid_template_rows": null,
       "height": null,
       "justify_content": null,
       "justify_items": null,
       "left": null,
       "margin": null,
       "max_height": null,
       "max_width": null,
       "min_height": null,
       "min_width": null,
       "object_fit": null,
       "object_position": null,
       "order": null,
       "overflow": null,
       "overflow_x": null,
       "overflow_y": null,
       "padding": null,
       "right": null,
       "top": null,
       "visibility": null,
       "width": "20px"
      }
     },
     "f2323708929f46cc9f8acae3cf4fc6e5": {
      "model_module": "@jupyter-widgets/base",
      "model_module_version": "1.2.0",
      "model_name": "LayoutModel",
      "state": {
       "_model_module": "@jupyter-widgets/base",
       "_model_module_version": "1.2.0",
       "_model_name": "LayoutModel",
       "_view_count": null,
       "_view_module": "@jupyter-widgets/base",
       "_view_module_version": "1.2.0",
       "_view_name": "LayoutView",
       "align_content": null,
       "align_items": null,
       "align_self": null,
       "border": null,
       "bottom": null,
       "display": null,
       "flex": null,
       "flex_flow": null,
       "grid_area": null,
       "grid_auto_columns": null,
       "grid_auto_flow": null,
       "grid_auto_rows": null,
       "grid_column": null,
       "grid_gap": null,
       "grid_row": null,
       "grid_template_areas": null,
       "grid_template_columns": null,
       "grid_template_rows": null,
       "height": null,
       "justify_content": null,
       "justify_items": null,
       "left": null,
       "margin": null,
       "max_height": null,
       "max_width": null,
       "min_height": null,
       "min_width": null,
       "object_fit": null,
       "object_position": null,
       "order": null,
       "overflow": null,
       "overflow_x": null,
       "overflow_y": null,
       "padding": null,
       "right": null,
       "top": null,
       "visibility": null,
       "width": "20px"
      }
     },
     "f576edb6c88c4f15a1c30eb0c111616e": {
      "model_module": "@jupyter-widgets/controls",
      "model_module_version": "1.5.0",
      "model_name": "HTMLModel",
      "state": {
       "_dom_classes": [],
       "_model_module": "@jupyter-widgets/controls",
       "_model_module_version": "1.5.0",
       "_model_name": "HTMLModel",
       "_view_count": null,
       "_view_module": "@jupyter-widgets/controls",
       "_view_module_version": "1.5.0",
       "_view_name": "HTMLView",
       "description": "",
       "description_tooltip": null,
       "layout": "IPY_MODEL_c5c4e535abec4d8c83a032fac9a992ce",
       "placeholder": "​",
       "style": "IPY_MODEL_8e61d5c1dbed4175ac62a6c8d548a965",
       "value": ""
      }
     },
     "f88eeeb1b5e44e688e6e94cb0a43daef": {
      "model_module": "@jupyter-widgets/controls",
      "model_module_version": "1.5.0",
      "model_name": "HTMLModel",
      "state": {
       "_dom_classes": [],
       "_model_module": "@jupyter-widgets/controls",
       "_model_module_version": "1.5.0",
       "_model_name": "HTMLModel",
       "_view_count": null,
       "_view_module": "@jupyter-widgets/controls",
       "_view_module_version": "1.5.0",
       "_view_name": "HTMLView",
       "description": "",
       "description_tooltip": null,
       "layout": "IPY_MODEL_c44ae0566d7e4980aaf6832399feac04",
       "placeholder": "​",
       "style": "IPY_MODEL_c16734e2066f48c4be191dabf43f949a",
       "value": " 1.66M/1.66M [00:01&lt;00:00, 2.52MB/s]"
      }
     },
     "f94fcbcb1eb94dc395f91918efce7e33": {
      "model_module": "@jupyter-widgets/base",
      "model_module_version": "1.2.0",
      "model_name": "LayoutModel",
      "state": {
       "_model_module": "@jupyter-widgets/base",
       "_model_module_version": "1.2.0",
       "_model_name": "LayoutModel",
       "_view_count": null,
       "_view_module": "@jupyter-widgets/base",
       "_view_module_version": "1.2.0",
       "_view_name": "LayoutView",
       "align_content": null,
       "align_items": null,
       "align_self": null,
       "border": null,
       "bottom": null,
       "display": null,
       "flex": null,
       "flex_flow": null,
       "grid_area": null,
       "grid_auto_columns": null,
       "grid_auto_flow": null,
       "grid_auto_rows": null,
       "grid_column": null,
       "grid_gap": null,
       "grid_row": null,
       "grid_template_areas": null,
       "grid_template_columns": null,
       "grid_template_rows": null,
       "height": null,
       "justify_content": null,
       "justify_items": null,
       "left": null,
       "margin": null,
       "max_height": null,
       "max_width": null,
       "min_height": null,
       "min_width": null,
       "object_fit": null,
       "object_position": null,
       "order": null,
       "overflow": null,
       "overflow_x": null,
       "overflow_y": null,
       "padding": null,
       "right": null,
       "top": null,
       "visibility": null,
       "width": null
      }
     },
     "fb607b6bfe4842aa801fd055c5fe7dd1": {
      "model_module": "@jupyter-widgets/base",
      "model_module_version": "1.2.0",
      "model_name": "LayoutModel",
      "state": {
       "_model_module": "@jupyter-widgets/base",
       "_model_module_version": "1.2.0",
       "_model_name": "LayoutModel",
       "_view_count": null,
       "_view_module": "@jupyter-widgets/base",
       "_view_module_version": "1.2.0",
       "_view_name": "LayoutView",
       "align_content": null,
       "align_items": null,
       "align_self": null,
       "border": null,
       "bottom": null,
       "display": null,
       "flex": null,
       "flex_flow": null,
       "grid_area": null,
       "grid_auto_columns": null,
       "grid_auto_flow": null,
       "grid_auto_rows": null,
       "grid_column": null,
       "grid_gap": null,
       "grid_row": null,
       "grid_template_areas": null,
       "grid_template_columns": null,
       "grid_template_rows": null,
       "height": null,
       "justify_content": null,
       "justify_items": null,
       "left": null,
       "margin": null,
       "max_height": null,
       "max_width": null,
       "min_height": null,
       "min_width": null,
       "object_fit": null,
       "object_position": null,
       "order": null,
       "overflow": null,
       "overflow_x": null,
       "overflow_y": null,
       "padding": null,
       "right": null,
       "top": null,
       "visibility": null,
       "width": null
      }
     },
     "fde7a8d0edec4d2ea6c62013dbe41b0d": {
      "model_module": "@jupyter-widgets/controls",
      "model_module_version": "1.5.0",
      "model_name": "HBoxModel",
      "state": {
       "_dom_classes": [],
       "_model_module": "@jupyter-widgets/controls",
       "_model_module_version": "1.5.0",
       "_model_name": "HBoxModel",
       "_view_count": null,
       "_view_module": "@jupyter-widgets/controls",
       "_view_module_version": "1.5.0",
       "_view_name": "HBoxView",
       "box_style": "",
       "children": [
        "IPY_MODEL_240f977e18c8468d8575795cf3de5fa1",
        "IPY_MODEL_07e70d075920412498b194856ea38245",
        "IPY_MODEL_769e7055b15145f99e2cc1dacacf53dd"
       ],
       "layout": "IPY_MODEL_4f2c1e508422462e95ce06741181f827"
      }
     }
    },
    "version_major": 2,
    "version_minor": 0
   }
  }
 },
 "nbformat": 4,
 "nbformat_minor": 5
}
